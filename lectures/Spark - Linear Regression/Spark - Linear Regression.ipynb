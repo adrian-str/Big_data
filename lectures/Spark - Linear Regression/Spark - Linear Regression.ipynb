{
 "cells": [
  {
   "cell_type": "code",
   "execution_count": 1,
   "metadata": {},
   "outputs": [],
   "source": [
    "from pyspark.sql import SparkSession\n",
    "spark = SparkSession.builder.appName('LR').getOrCreate()"
   ]
  },
  {
   "cell_type": "code",
   "execution_count": 4,
   "metadata": {},
   "outputs": [],
   "source": [
    "df = spark.read.csv('Ecommerce_Customers.csv', header=True, inferSchema=True)"
   ]
  },
  {
   "cell_type": "code",
   "execution_count": 7,
   "metadata": {},
   "outputs": [
    {
     "name": "stdout",
     "output_type": "stream",
     "text": [
      "root\n",
      " |-- Email: string (nullable = true)\n",
      " |-- Address: string (nullable = true)\n",
      " |-- Avatar: string (nullable = true)\n",
      " |-- Avg Session Length: double (nullable = true)\n",
      " |-- Time on App: double (nullable = true)\n",
      " |-- Time on Website: double (nullable = true)\n",
      " |-- Length of Membership: double (nullable = true)\n",
      " |-- Yearly Amount Spent: double (nullable = true)\n",
      "\n"
     ]
    }
   ],
   "source": [
    "df.printSchema()"
   ]
  },
  {
   "cell_type": "code",
   "execution_count": 11,
   "metadata": {},
   "outputs": [
    {
     "data": {
      "text/html": [
       "<div>\n",
       "<style scoped>\n",
       "    .dataframe tbody tr th:only-of-type {\n",
       "        vertical-align: middle;\n",
       "    }\n",
       "\n",
       "    .dataframe tbody tr th {\n",
       "        vertical-align: top;\n",
       "    }\n",
       "\n",
       "    .dataframe thead th {\n",
       "        text-align: right;\n",
       "    }\n",
       "</style>\n",
       "<table border=\"1\" class=\"dataframe\">\n",
       "  <thead>\n",
       "    <tr style=\"text-align: right;\">\n",
       "      <th></th>\n",
       "      <th>summary</th>\n",
       "      <th>Email</th>\n",
       "      <th>Address</th>\n",
       "      <th>Avatar</th>\n",
       "      <th>Avg Session Length</th>\n",
       "      <th>Time on App</th>\n",
       "      <th>Time on Website</th>\n",
       "      <th>Length of Membership</th>\n",
       "      <th>Yearly Amount Spent</th>\n",
       "    </tr>\n",
       "  </thead>\n",
       "  <tbody>\n",
       "    <tr>\n",
       "      <th>0</th>\n",
       "      <td>count</td>\n",
       "      <td>500</td>\n",
       "      <td>500</td>\n",
       "      <td>500</td>\n",
       "      <td>500</td>\n",
       "      <td>500</td>\n",
       "      <td>500</td>\n",
       "      <td>500</td>\n",
       "      <td>500</td>\n",
       "    </tr>\n",
       "    <tr>\n",
       "      <th>1</th>\n",
       "      <td>mean</td>\n",
       "      <td>None</td>\n",
       "      <td>None</td>\n",
       "      <td>None</td>\n",
       "      <td>33.05319351819619</td>\n",
       "      <td>12.052487937166134</td>\n",
       "      <td>37.06044542094859</td>\n",
       "      <td>3.533461555915055</td>\n",
       "      <td>499.3140382585909</td>\n",
       "    </tr>\n",
       "    <tr>\n",
       "      <th>2</th>\n",
       "      <td>stddev</td>\n",
       "      <td>None</td>\n",
       "      <td>None</td>\n",
       "      <td>None</td>\n",
       "      <td>0.9925631110845354</td>\n",
       "      <td>0.9942156084725424</td>\n",
       "      <td>1.0104889067564033</td>\n",
       "      <td>0.9992775024112585</td>\n",
       "      <td>79.3147815497068</td>\n",
       "    </tr>\n",
       "    <tr>\n",
       "      <th>3</th>\n",
       "      <td>min</td>\n",
       "      <td>aaron04@yahoo.com</td>\n",
       "      <td>0001 Mack MillNorth Jennifer, NE 42021-5936</td>\n",
       "      <td>AliceBlue</td>\n",
       "      <td>29.532428967057943</td>\n",
       "      <td>8.508152176032603</td>\n",
       "      <td>33.91384724758464</td>\n",
       "      <td>0.2699010899842742</td>\n",
       "      <td>256.67058229005585</td>\n",
       "    </tr>\n",
       "    <tr>\n",
       "      <th>4</th>\n",
       "      <td>max</td>\n",
       "      <td>zscott@wright.com</td>\n",
       "      <td>Unit 7502 Box 8345DPO AE 53747</td>\n",
       "      <td>YellowGreen</td>\n",
       "      <td>36.13966248879052</td>\n",
       "      <td>15.126994288792467</td>\n",
       "      <td>40.005181638101895</td>\n",
       "      <td>6.922689335035808</td>\n",
       "      <td>765.5184619388373</td>\n",
       "    </tr>\n",
       "  </tbody>\n",
       "</table>\n",
       "</div>"
      ],
      "text/plain": [
       "  summary              Email                                      Address  \\\n",
       "0   count                500                                          500   \n",
       "1    mean               None                                         None   \n",
       "2  stddev               None                                         None   \n",
       "3     min  aaron04@yahoo.com  0001 Mack MillNorth Jennifer, NE 42021-5936   \n",
       "4     max  zscott@wright.com               Unit 7502 Box 8345DPO AE 53747   \n",
       "\n",
       "        Avatar  Avg Session Length         Time on App     Time on Website  \\\n",
       "0          500                 500                 500                 500   \n",
       "1         None   33.05319351819619  12.052487937166134   37.06044542094859   \n",
       "2         None  0.9925631110845354  0.9942156084725424  1.0104889067564033   \n",
       "3    AliceBlue  29.532428967057943   8.508152176032603   33.91384724758464   \n",
       "4  YellowGreen   36.13966248879052  15.126994288792467  40.005181638101895   \n",
       "\n",
       "  Length of Membership Yearly Amount Spent  \n",
       "0                  500                 500  \n",
       "1    3.533461555915055   499.3140382585909  \n",
       "2   0.9992775024112585    79.3147815497068  \n",
       "3   0.2699010899842742  256.67058229005585  \n",
       "4    6.922689335035808   765.5184619388373  "
      ]
     },
     "execution_count": 11,
     "metadata": {},
     "output_type": "execute_result"
    }
   ],
   "source": [
    "df.describe().toPandas()"
   ]
  },
  {
   "cell_type": "code",
   "execution_count": 13,
   "metadata": {},
   "outputs": [],
   "source": [
    "from pyspark.ml.feature import VectorAssembler"
   ]
  },
  {
   "cell_type": "code",
   "execution_count": 14,
   "metadata": {},
   "outputs": [
    {
     "name": "stdout",
     "output_type": "stream",
     "text": [
      "root\n",
      " |-- Email: string (nullable = true)\n",
      " |-- Address: string (nullable = true)\n",
      " |-- Avatar: string (nullable = true)\n",
      " |-- Avg Session Length: double (nullable = true)\n",
      " |-- Time on App: double (nullable = true)\n",
      " |-- Time on Website: double (nullable = true)\n",
      " |-- Length of Membership: double (nullable = true)\n",
      " |-- Yearly Amount Spent: double (nullable = true)\n",
      "\n"
     ]
    }
   ],
   "source": [
    "df.printSchema()"
   ]
  },
  {
   "cell_type": "code",
   "execution_count": 15,
   "metadata": {},
   "outputs": [],
   "source": [
    "assembler = VectorAssembler(inputCols=['Avg Session Length', 'Time on App', 'Time on Website', \n",
    "                                       'Length of Membership'], outputCol='features')\n",
    "output = assembler.transform(df)"
   ]
  },
  {
   "cell_type": "code",
   "execution_count": 17,
   "metadata": {},
   "outputs": [
    {
     "data": {
      "text/plain": [
       "[Row(features=DenseVector([34.4973, 12.6557, 39.5777, 4.0826]))]"
      ]
     },
     "execution_count": 17,
     "metadata": {},
     "output_type": "execute_result"
    }
   ],
   "source": [
    "output.select('features').head(1)"
   ]
  },
  {
   "cell_type": "code",
   "execution_count": 18,
   "metadata": {},
   "outputs": [],
   "source": [
    "final_data = output.select(['features', 'Yearly Amount Spent'])"
   ]
  },
  {
   "cell_type": "code",
   "execution_count": 19,
   "metadata": {},
   "outputs": [],
   "source": [
    "train_data, test_data = final_data.randomSplit([0.7, 0.3])"
   ]
  },
  {
   "cell_type": "code",
   "execution_count": 20,
   "metadata": {},
   "outputs": [
    {
     "name": "stdout",
     "output_type": "stream",
     "text": [
      "+-------+-------------------+\n",
      "|summary|Yearly Amount Spent|\n",
      "+-------+-------------------+\n",
      "|  count|                500|\n",
      "|   mean|  499.3140382585909|\n",
      "| stddev|   79.3147815497068|\n",
      "|    min| 256.67058229005585|\n",
      "|    max|  765.5184619388373|\n",
      "+-------+-------------------+\n",
      "\n"
     ]
    }
   ],
   "source": [
    "final_data.describe().show()"
   ]
  },
  {
   "cell_type": "code",
   "execution_count": 21,
   "metadata": {},
   "outputs": [
    {
     "name": "stdout",
     "output_type": "stream",
     "text": [
      "+-------+-------------------+\n",
      "|summary|Yearly Amount Spent|\n",
      "+-------+-------------------+\n",
      "|  count|                359|\n",
      "|   mean|  504.3351435040122|\n",
      "| stddev|   79.5026957944929|\n",
      "|    min| 256.67058229005585|\n",
      "|    max|  765.5184619388373|\n",
      "+-------+-------------------+\n",
      "\n"
     ]
    }
   ],
   "source": [
    "train_data.describe().show()"
   ]
  },
  {
   "cell_type": "code",
   "execution_count": 22,
   "metadata": {},
   "outputs": [
    {
     "name": "stdout",
     "output_type": "stream",
     "text": [
      "+-------+-------------------+\n",
      "|summary|Yearly Amount Spent|\n",
      "+-------+-------------------+\n",
      "|  count|                141|\n",
      "|   mean| 486.52980575429063|\n",
      "| stddev|  77.65436288487135|\n",
      "|    min|   266.086340948469|\n",
      "|    max|  689.2356997616951|\n",
      "+-------+-------------------+\n",
      "\n"
     ]
    }
   ],
   "source": [
    "test_data.describe().show()"
   ]
  },
  {
   "cell_type": "code",
   "execution_count": 23,
   "metadata": {},
   "outputs": [],
   "source": [
    "from pyspark.ml.regression import LinearRegression"
   ]
  },
  {
   "cell_type": "code",
   "execution_count": 24,
   "metadata": {},
   "outputs": [],
   "source": [
    "lr = LinearRegression(labelCol='Yearly Amount Spent')"
   ]
  },
  {
   "cell_type": "code",
   "execution_count": 25,
   "metadata": {},
   "outputs": [],
   "source": [
    "lr_model = lr.fit(train_data)"
   ]
  },
  {
   "cell_type": "code",
   "execution_count": 26,
   "metadata": {},
   "outputs": [],
   "source": [
    "test_results = lr_model.evaluate(test_data)"
   ]
  },
  {
   "cell_type": "code",
   "execution_count": 28,
   "metadata": {},
   "outputs": [
    {
     "name": "stdout",
     "output_type": "stream",
     "text": [
      "+-------------------+\n",
      "|          residuals|\n",
      "+-------------------+\n",
      "|0.08412594943450813|\n",
      "| -16.70524856184022|\n",
      "|  -5.09318872239777|\n",
      "|  5.958368289121836|\n",
      "| -22.66050660683652|\n",
      "|  21.00885367281512|\n",
      "|  2.375883640778625|\n",
      "| 3.7615027952396076|\n",
      "| -7.093072713659353|\n",
      "|-18.508846031100347|\n",
      "| -2.296569131809406|\n",
      "| -6.448732232768748|\n",
      "|-1.7608239882226258|\n",
      "| -4.224803353993423|\n",
      "| -3.182833024521358|\n",
      "| 7.6319263961156025|\n",
      "| 1.0324634554949625|\n",
      "| 7.4623228363412295|\n",
      "|-10.569900092709645|\n",
      "| -5.824705464716715|\n",
      "+-------------------+\n",
      "only showing top 20 rows\n",
      "\n"
     ]
    }
   ],
   "source": [
    "test_results.residuals.show()"
   ]
  },
  {
   "cell_type": "code",
   "execution_count": 29,
   "metadata": {},
   "outputs": [
    {
     "data": {
      "text/plain": [
       "9.611853137067396"
      ]
     },
     "execution_count": 29,
     "metadata": {},
     "output_type": "execute_result"
    }
   ],
   "source": [
    "test_results.rootMeanSquaredError"
   ]
  },
  {
   "cell_type": "code",
   "execution_count": 30,
   "metadata": {},
   "outputs": [
    {
     "data": {
      "text/plain": [
       "0.9845697270635556"
      ]
     },
     "execution_count": 30,
     "metadata": {},
     "output_type": "execute_result"
    }
   ],
   "source": [
    "test_results.r2"
   ]
  },
  {
   "cell_type": "code",
   "execution_count": 31,
   "metadata": {},
   "outputs": [],
   "source": [
    "unlabeled_data = test_data.select('features')"
   ]
  },
  {
   "cell_type": "code",
   "execution_count": 33,
   "metadata": {},
   "outputs": [
    {
     "name": "stdout",
     "output_type": "stream",
     "text": [
      "+--------------------+\n",
      "|            features|\n",
      "+--------------------+\n",
      "|[30.5743636841713...|\n",
      "|[30.8162006488763...|\n",
      "|[30.8364326747734...|\n",
      "|[30.9716756438877...|\n",
      "|[31.1239743499119...|\n",
      "|[31.2834474760581...|\n",
      "|[31.3091926408918...|\n",
      "|[31.3662121671876...|\n",
      "|[31.4474464941278...|\n",
      "|[31.5702008293202...|\n",
      "|[31.5761319713222...|\n",
      "|[31.7207699002873...|\n",
      "|[31.7216523605090...|\n",
      "|[31.7656188210424...|\n",
      "|[31.8186165667690...|\n",
      "|[31.8209982016720...|\n",
      "|[31.8293464559211...|\n",
      "|[31.8512531286083...|\n",
      "|[31.8648325480987...|\n",
      "|[31.8745516945853...|\n",
      "+--------------------+\n",
      "only showing top 20 rows\n",
      "\n"
     ]
    }
   ],
   "source": [
    "unlabeled_data.show()"
   ]
  },
  {
   "cell_type": "code",
   "execution_count": 34,
   "metadata": {},
   "outputs": [],
   "source": [
    "predictions = lr_model.transform(unlabeled_data)"
   ]
  },
  {
   "cell_type": "code",
   "execution_count": 36,
   "metadata": {},
   "outputs": [
    {
     "name": "stdout",
     "output_type": "stream",
     "text": [
      "+--------------------+------------------+\n",
      "|            features|        prediction|\n",
      "+--------------------+------------------+\n",
      "|[30.5743636841713...|441.98028780863115|\n",
      "|[30.8162006488763...| 282.7915895103092|\n",
      "|[30.8364326747734...| 472.5950891493874|\n",
      "|[30.9716756438877...| 488.6802414677709|\n",
      "|[31.1239743499119...| 509.6075604466023|\n",
      "|[31.2834474760581...| 570.7722357528523|\n",
      "|[31.3091926408918...|  430.344834199155|\n",
      "|[31.3662121671876...| 426.8273797612453|\n",
      "|[31.4474464941278...|425.69581480888337|\n",
      "|[31.5702008293202...| 564.4543381725052|\n",
      "|[31.5761319713222...| 543.5231531211377|\n",
      "|[31.7207699002873...| 545.2236657107917|\n",
      "|[31.7216523605090...|349.53775062009527|\n",
      "|[31.7656188210424...|500.77888498960056|\n",
      "|[31.8186165667690...|  449.601506394657|\n",
      "|[31.8209982016720...|417.04335461709775|\n",
      "|[31.8293464559211...|   384.11987453248|\n",
      "|[31.8512531286083...|465.52992383045716|\n",
      "|[31.8648325480987...| 450.4611805695233|\n",
      "|[31.8745516945853...| 398.1099497109842|\n",
      "+--------------------+------------------+\n",
      "only showing top 20 rows\n",
      "\n"
     ]
    }
   ],
   "source": [
    "predictions.show()"
   ]
  },
  {
   "cell_type": "code",
   "execution_count": null,
   "metadata": {},
   "outputs": [],
   "source": []
  }
 ],
 "metadata": {
  "kernelspec": {
   "display_name": "Python 3",
   "language": "python",
   "name": "python3"
  },
  "language_info": {
   "codemirror_mode": {
    "name": "ipython",
    "version": 3
   },
   "file_extension": ".py",
   "mimetype": "text/x-python",
   "name": "python",
   "nbconvert_exporter": "python",
   "pygments_lexer": "ipython3",
   "version": "3.8.5"
  }
 },
 "nbformat": 4,
 "nbformat_minor": 4
}
