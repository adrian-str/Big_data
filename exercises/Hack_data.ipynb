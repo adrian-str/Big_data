{
 "cells": [
  {
   "cell_type": "code",
   "execution_count": 1,
   "metadata": {},
   "outputs": [],
   "source": [
    "from pyspark.sql import SparkSession\n",
    "spark = SparkSession.builder.appName(\"HD\").getOrCreate()"
   ]
  },
  {
   "cell_type": "code",
   "execution_count": 2,
   "metadata": {},
   "outputs": [],
   "source": [
    "data=spark.read.csv(\"../data/hack_data.csv\",inferSchema=True,header=True)"
   ]
  },
  {
   "cell_type": "code",
   "execution_count": 4,
   "metadata": {},
   "outputs": [
    {
     "data": {
      "text/html": [
       "<div>\n",
       "<style scoped>\n",
       "    .dataframe tbody tr th:only-of-type {\n",
       "        vertical-align: middle;\n",
       "    }\n",
       "\n",
       "    .dataframe tbody tr th {\n",
       "        vertical-align: top;\n",
       "    }\n",
       "\n",
       "    .dataframe thead th {\n",
       "        text-align: right;\n",
       "    }\n",
       "</style>\n",
       "<table border=\"1\" class=\"dataframe\">\n",
       "  <thead>\n",
       "    <tr style=\"text-align: right;\">\n",
       "      <th></th>\n",
       "      <th>summary</th>\n",
       "      <th>Session_Connection_Time</th>\n",
       "      <th>Bytes Transferred</th>\n",
       "      <th>Kali_Trace_Used</th>\n",
       "      <th>Servers_Corrupted</th>\n",
       "      <th>Pages_Corrupted</th>\n",
       "      <th>Location</th>\n",
       "      <th>WPM_Typing_Speed</th>\n",
       "    </tr>\n",
       "  </thead>\n",
       "  <tbody>\n",
       "    <tr>\n",
       "      <th>0</th>\n",
       "      <td>count</td>\n",
       "      <td>334</td>\n",
       "      <td>334</td>\n",
       "      <td>334</td>\n",
       "      <td>334</td>\n",
       "      <td>334</td>\n",
       "      <td>334</td>\n",
       "      <td>334</td>\n",
       "    </tr>\n",
       "    <tr>\n",
       "      <th>1</th>\n",
       "      <td>mean</td>\n",
       "      <td>30.008982035928145</td>\n",
       "      <td>607.2452694610777</td>\n",
       "      <td>0.5119760479041916</td>\n",
       "      <td>5.258502994011977</td>\n",
       "      <td>10.838323353293413</td>\n",
       "      <td>None</td>\n",
       "      <td>57.342395209580864</td>\n",
       "    </tr>\n",
       "    <tr>\n",
       "      <th>2</th>\n",
       "      <td>stddev</td>\n",
       "      <td>14.088200614636158</td>\n",
       "      <td>286.33593163576757</td>\n",
       "      <td>0.5006065264451406</td>\n",
       "      <td>2.30190693339697</td>\n",
       "      <td>3.06352633036022</td>\n",
       "      <td>None</td>\n",
       "      <td>13.41106336843464</td>\n",
       "    </tr>\n",
       "    <tr>\n",
       "      <th>3</th>\n",
       "      <td>min</td>\n",
       "      <td>1.0</td>\n",
       "      <td>10.0</td>\n",
       "      <td>0</td>\n",
       "      <td>1.0</td>\n",
       "      <td>6.0</td>\n",
       "      <td>Afghanistan</td>\n",
       "      <td>40.0</td>\n",
       "    </tr>\n",
       "    <tr>\n",
       "      <th>4</th>\n",
       "      <td>max</td>\n",
       "      <td>60.0</td>\n",
       "      <td>1330.5</td>\n",
       "      <td>1</td>\n",
       "      <td>10.0</td>\n",
       "      <td>15.0</td>\n",
       "      <td>Zimbabwe</td>\n",
       "      <td>75.0</td>\n",
       "    </tr>\n",
       "  </tbody>\n",
       "</table>\n",
       "</div>"
      ],
      "text/plain": [
       "  summary Session_Connection_Time   Bytes Transferred     Kali_Trace_Used  \\\n",
       "0   count                     334                 334                 334   \n",
       "1    mean      30.008982035928145   607.2452694610777  0.5119760479041916   \n",
       "2  stddev      14.088200614636158  286.33593163576757  0.5006065264451406   \n",
       "3     min                     1.0                10.0                   0   \n",
       "4     max                    60.0              1330.5                   1   \n",
       "\n",
       "   Servers_Corrupted     Pages_Corrupted     Location    WPM_Typing_Speed  \n",
       "0                334                 334          334                 334  \n",
       "1  5.258502994011977  10.838323353293413         None  57.342395209580864  \n",
       "2   2.30190693339697    3.06352633036022         None   13.41106336843464  \n",
       "3                1.0                 6.0  Afghanistan                40.0  \n",
       "4               10.0                15.0     Zimbabwe                75.0  "
      ]
     },
     "execution_count": 4,
     "metadata": {},
     "output_type": "execute_result"
    }
   ],
   "source": [
    "data.describe().toPandas"
   ]
  },
  {
   "cell_type": "code",
   "execution_count": 11,
   "metadata": {},
   "outputs": [
    {
     "name": "stdout",
     "output_type": "stream",
     "text": [
      "+--------------------+\n",
      "|            Location|\n",
      "+--------------------+\n",
      "|            Slovenia|\n",
      "|British Virgin Is...|\n",
      "|             Tokelau|\n",
      "|             Bolivia|\n",
      "|                Iraq|\n",
      "|    Marshall Islands|\n",
      "|             Georgia|\n",
      "|         Timor-Leste|\n",
      "|Palestinian Terri...|\n",
      "|          Bangladesh|\n",
      "|Northern Mariana ...|\n",
      "|            Zimbabwe|\n",
      "|         Isle of Man|\n",
      "|Sao Tome and Prin...|\n",
      "|              Greece|\n",
      "|     Solomon Islands|\n",
      "|       Guinea-Bissau|\n",
      "|        Burkina Faso|\n",
      "|            Mongolia|\n",
      "|             Nigeria|\n",
      "+--------------------+\n",
      "only showing top 20 rows\n",
      "\n"
     ]
    }
   ],
   "source": [
    "data.select(\"Location\").show() #looks like this variable won't be useful since it has mostly distinct values"
   ]
  },
  {
   "cell_type": "code",
   "execution_count": 19,
   "metadata": {},
   "outputs": [],
   "source": [
    "from pyspark.ml.feature import VectorAssembler\n",
    "sindex=StringIndexer(inputCol=\"Location\")\n",
    "assembler=VectorAssembler(inputCols=['Session_Connection_Time',\n",
    " 'Bytes Transferred',\n",
    " 'Kali_Trace_Used',\n",
    " 'Servers_Corrupted',\n",
    " 'Pages_Corrupted','WPM_Typing_Speed'],outputCol='features')"
   ]
  },
  {
   "cell_type": "code",
   "execution_count": 14,
   "metadata": {},
   "outputs": [],
   "source": [
    "final_data=assembler.transform(data)"
   ]
  },
  {
   "cell_type": "code",
   "execution_count": 16,
   "metadata": {},
   "outputs": [],
   "source": [
    "from pyspark.ml.clustering import KMeans\n",
    "kmeans2 = KMeans(k=2, seed=1)\n",
    "kmeans3=KMeans(k=3, seed=1)\n",
    "model2 = kmeans2.fit(final_data)\n",
    "model3=kmeans3.fit(final_data)"
   ]
  },
  {
   "cell_type": "code",
   "execution_count": 17,
   "metadata": {},
   "outputs": [],
   "source": [
    "results2=model2.transform(final_data)\n",
    "results3=model3.transform(final_data)"
   ]
  },
  {
   "cell_type": "code",
   "execution_count": 18,
   "metadata": {},
   "outputs": [
    {
     "name": "stdout",
     "output_type": "stream",
     "text": [
      "Silhouette with 2 clusters = 0.8048521975748283\n",
      "Silhouette with 3 clusters = 0.6958546319645178\n"
     ]
    }
   ],
   "source": [
    "from pyspark.ml.evaluation import ClusteringEvaluator\n",
    "evaluator = ClusteringEvaluator(metricName='silhouette', distanceMeasure='squaredEuclidean')\n",
    "\n",
    "silhouette2 = evaluator.evaluate(results2)\n",
    "silhouette3 = evaluator.evaluate(results3)\n",
    "print(\"Silhouette with 2 clusters = \" + str(silhouette2))\n",
    "print(\"Silhouette with 3 clusters = \" + str(silhouette3))"
   ]
  },
  {
   "cell_type": "markdown",
   "metadata": {},
   "source": [
    "It seems it is more likely that the _attacks_ have been perpetrated by only **two hackers**. The **third suspect** is probably _**innocent**_."
   ]
  },
  {
   "cell_type": "markdown",
   "metadata": {},
   "source": [
    "### With Location feature "
   ]
  },
  {
   "cell_type": "code",
   "execution_count": null,
   "metadata": {},
   "outputs": [],
   "source": [
    "from pyspark.ml.feature import VectorAssembler,StringIndexer\n",
    "sindex=StringIndexer(inputCol=\"Location\",outputCol=\"Location_ind\")\n",
    "assembler=VectorAssembler(inputCols=['Session_Connection_Time',\n",
    " 'Bytes Transferred',\n",
    " 'Kali_Trace_Used',\n",
    " 'Servers_Corrupted',\n",
    " 'Pages_Corrupted','Location_ind','WPM_Typing_Speed'],outputCol='features')"
   ]
  },
  {
   "cell_type": "code",
   "execution_count": 20,
   "metadata": {},
   "outputs": [],
   "source": [
    "data_ind=sindex.fit(data).transform(data)\n",
    "final_data=assembler.transform(data_ind)"
   ]
  },
  {
   "cell_type": "code",
   "execution_count": 21,
   "metadata": {},
   "outputs": [],
   "source": [
    "kmeans2 = KMeans(k=2, seed=1)\n",
    "kmeans3=KMeans(k=3, seed=1)\n",
    "model2 = kmeans2.fit(final_data)\n",
    "model3=kmeans3.fit(final_data)"
   ]
  },
  {
   "cell_type": "code",
   "execution_count": 22,
   "metadata": {},
   "outputs": [],
   "source": [
    "results2=model2.transform(final_data)\n",
    "results3=model3.transform(final_data)"
   ]
  },
  {
   "cell_type": "code",
   "execution_count": 23,
   "metadata": {},
   "outputs": [
    {
     "name": "stdout",
     "output_type": "stream",
     "text": [
      "Silhouette with 2 clusters = 0.7880858006977343\n",
      "Silhouette with 3 clusters = 0.6562678799064662\n"
     ]
    }
   ],
   "source": [
    "silhouette2 = evaluator.evaluate(results2)\n",
    "silhouette3 = evaluator.evaluate(results3)\n",
    "print(\"Silhouette with 2 clusters = \" + str(silhouette2))\n",
    "print(\"Silhouette with 3 clusters = \" + str(silhouette3))"
   ]
  },
  {
   "cell_type": "markdown",
   "metadata": {},
   "source": [
    "Same outcome with worse evaluation results. Location was indeed an useless feature."
   ]
  }
 ],
 "metadata": {
  "kernelspec": {
   "display_name": "Python 3",
   "language": "python",
   "name": "python3"
  },
  "language_info": {
   "codemirror_mode": {
    "name": "ipython",
    "version": 3
   },
   "file_extension": ".py",
   "mimetype": "text/x-python",
   "name": "python",
   "nbconvert_exporter": "python",
   "pygments_lexer": "ipython3",
   "version": "3.7.3"
  }
 },
 "nbformat": 4,
 "nbformat_minor": 2
}
