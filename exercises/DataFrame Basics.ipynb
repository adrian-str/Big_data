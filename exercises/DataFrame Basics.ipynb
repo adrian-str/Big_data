{
 "cells": [
  {
   "cell_type": "code",
   "execution_count": 1,
   "metadata": {},
   "outputs": [],
   "source": [
    "from pyspark.sql import SparkSession\n",
    "spark = SparkSession.builder.appName('dfbasics').getOrCreate() #como solo puede haber una instancia de spark corriend\n",
    "#si no la hay la crea"
   ]
  },
  {
   "cell_type": "code",
   "execution_count": 2,
   "metadata": {},
   "outputs": [
    {
     "data": {
      "text/html": [
       "\n",
       "            <div>\n",
       "                <p><b>SparkSession - hive</b></p>\n",
       "                \n",
       "        <div>\n",
       "            <p><b>SparkContext</b></p>\n",
       "\n",
       "            <p><a href=\"http://192.168.110.129:4040\">Spark UI</a></p>\n",
       "\n",
       "            <dl>\n",
       "              <dt>Version</dt>\n",
       "                <dd><code>v3.0.1</code></dd>\n",
       "              <dt>Master</dt>\n",
       "                <dd><code>local[*]</code></dd>\n",
       "              <dt>AppName</dt>\n",
       "                <dd><code>PySparkShell</code></dd>\n",
       "            </dl>\n",
       "        </div>\n",
       "        \n",
       "            </div>\n",
       "        "
      ],
      "text/plain": [
       "<pyspark.sql.session.SparkSession at 0x7f73b6c50860>"
      ]
     },
     "execution_count": 2,
     "metadata": {},
     "output_type": "execute_result"
    }
   ],
   "source": [
    "spark"
   ]
  },
  {
   "cell_type": "code",
   "execution_count": 3,
   "metadata": {},
   "outputs": [],
   "source": [
    "df = spark.read.parquet('example.parquet') #aún no lo ha leído realmente"
   ]
  },
  {
   "cell_type": "code",
   "execution_count": 4,
   "metadata": {},
   "outputs": [
    {
     "name": "stdout",
     "output_type": "stream",
     "text": [
      "+------+----------------+--------------+----------+-------+------------+-------------------+------------+----------+-----------+--------+--------+----+-------+------+----------+-----------------+\n",
      "|timeID|        deviceID|      ClientID|      date|sensors|  macaddress|          timestamp|lostPackages|transferid|temperature|humidity|pressure|rssi|battery|battid|   battime|__index_level_0__|\n",
      "+------+----------------+--------------+----------+-------+------------+-------------------+------------+----------+-----------+--------+--------+----+-------+------+----------+-----------------+\n",
      "| 02:00|8B45C243B7C7B3E5|interxionpilot|13/10/2020|     65|e8ef608545bd|1.602547554622682E9|           0|       241|       4050|      25| 9530158| -86|   2974|    22|1602319364|                0|\n",
      "| 02:00|8B45C243B7C7B3E5|interxionpilot|13/10/2020|     65|cee054e51972|1.602547554622682E9|           0|        22|       2403|      45| 9522478| -79|   2805|    24|1602492324|                1|\n",
      "| 02:00|8B45C243B7C7B3E5|interxionpilot|13/10/2020|     65|cc282299f903|1.602547554622682E9|           0|        63|       2490|      43| 9500185| -88|   2854|    20|1602146661|                2|\n",
      "| 02:00|8B45C243B7C7B3E5|interxionpilot|13/10/2020|     65|c951484e7557|1.602547554622682E9|           0|        72|       3538|      27| 9512326| -88|   2875|    23|1602405817|                3|\n",
      "| 02:00|8B45C243B7C7B3E5|interxionpilot|13/10/2020|     65|e0dd5d2685d6|1.602547554622682E9|           0|       166|       2315|      48| 9488159| -92|   2789|    24|1602492285|                4|\n",
      "| 02:00|8B45C243B7C7B3E5|interxionpilot|13/10/2020|     65|eb4ff49b6856|1.602547554622682E9|           0|       134|       4349|      20| 9507795| -91|   3002|    24|1602492087|                5|\n",
      "| 02:00|8B45C243B7C7B3E5|interxionpilot|13/10/2020|     65|d87a0caedc19|1.602547554622682E9|           0|       148|       3500|      27| 9495300| -87|   2898|    24|1602492076|                6|\n",
      "| 02:00|8B45C243B7C7B3E5|interxionpilot|13/10/2020|     65|dc39dd91e92e|1.602547554622682E9|           0|        85|       3575|      27| 9503161| -84|   2922|    24|1602492112|                7|\n",
      "| 02:00|8B45C243B7C7B3E5|interxionpilot|13/10/2020|     65|daa529e8ad85|1.602547554622682E9|           0|       144|       2957|      35| 9490492| -71|   2901|    24|1602491871|                8|\n",
      "| 02:00|8B45C243B7C7B3E5|interxionpilot|13/10/2020|     65|d9f3ed813ee7|1.602547554622682E9|           0|         2|       3044|      35| 9493051| -67|   2894|    24|1602491940|                9|\n",
      "| 02:00|8B45C243B7C7B3E5|interxionpilot|13/10/2020|     65|df531c3f8505|1.602547554622682E9|           0|       107|       2757|      38| 9476594| -74|   2887|    24|1602491990|               10|\n",
      "| 02:00|8B45C243B7C7B3E5|interxionpilot|13/10/2020|     65|f3526cfd8a6e|1.602547554622682E9|           0|        34|       3385|      29| 9497660| -82|   2925|    24|1602492052|               11|\n",
      "| 02:00|8B45C243B7C7B3E5|interxionpilot|13/10/2020|     65|e4baaebc5411|1.602547554622682E9|           0|       215|       3036|      33| 9482565| -89|   2799|    24|1602492351|               12|\n",
      "| 02:00|8B45C243B7C7B3E5|interxionpilot|13/10/2020|     65|da054930b590|1.602547554622682E9|           0|       190|       3568|      27| 9485288| -76|   2921|    24|1602492036|               13|\n",
      "| 02:00|8B45C243B7C7B3E5|interxionpilot|13/10/2020|     65|e9400a42da62|1.602547554622682E9|           0|       170|       3604|      26| 9488103| -75|   2921|    24|1602492041|               14|\n",
      "| 02:00|8B45C243B7C7B3E5|interxionpilot|13/10/2020|     65|fa3ba8e127f5|1.602547554622682E9|           0|       221|       2427|      44| 9493832| -90|   2765|    24|1602492250|               15|\n",
      "| 02:00|8B45C243B7C7B3E5|interxionpilot|13/10/2020|     65|c3ed028fcacf|1.602547554622682E9|           0|       100|       2284|      48| 9475917| -83|   2790|    24|1602492289|               16|\n",
      "| 02:00|8B45C243B7C7B3E5|interxionpilot|13/10/2020|     65|c12ceb212ae0|1.602547554622682E9|           0|        94|       2494|      40| 9478991| -93|   2782|    24|1602492322|               17|\n",
      "| 02:00|8B45C243B7C7B3E5|interxionpilot|13/10/2020|     65|fe707b16ef38|1.602547554622682E9|           0|       138|       2953|      34| 9480578| -79|   2800|    24|1602492332|               18|\n",
      "| 02:00|8B45C243B7C7B3E5|interxionpilot|13/10/2020|     65|e5f74f627a48|1.602547554622682E9|           0|        26|       2440|      42| 9481943| -78|   2831|    24|1602492341|               19|\n",
      "+------+----------------+--------------+----------+-------+------------+-------------------+------------+----------+-----------+--------+--------+----+-------+------+----------+-----------------+\n",
      "only showing top 20 rows\n",
      "\n"
     ]
    }
   ],
   "source": [
    "df.show()"
   ]
  },
  {
   "cell_type": "code",
   "execution_count": 5,
   "metadata": {},
   "outputs": [
    {
     "data": {
      "text/plain": [
       "['timeID',\n",
       " 'deviceID',\n",
       " 'ClientID',\n",
       " 'date',\n",
       " 'sensors',\n",
       " 'macaddress',\n",
       " 'timestamp',\n",
       " 'lostPackages',\n",
       " 'transferid',\n",
       " 'temperature',\n",
       " 'humidity',\n",
       " 'pressure',\n",
       " 'rssi',\n",
       " 'battery',\n",
       " 'battid',\n",
       " 'battime',\n",
       " '__index_level_0__']"
      ]
     },
     "execution_count": 5,
     "metadata": {},
     "output_type": "execute_result"
    }
   ],
   "source": [
    "df.columns"
   ]
  },
  {
   "cell_type": "code",
   "execution_count": 6,
   "metadata": {},
   "outputs": [
    {
     "name": "stdout",
     "output_type": "stream",
     "text": [
      "root\n",
      " |-- timeID: string (nullable = true)\n",
      " |-- deviceID: string (nullable = true)\n",
      " |-- ClientID: string (nullable = true)\n",
      " |-- date: string (nullable = true)\n",
      " |-- sensors: long (nullable = true)\n",
      " |-- macaddress: string (nullable = true)\n",
      " |-- timestamp: double (nullable = true)\n",
      " |-- lostPackages: long (nullable = true)\n",
      " |-- transferid: long (nullable = true)\n",
      " |-- temperature: long (nullable = true)\n",
      " |-- humidity: long (nullable = true)\n",
      " |-- pressure: long (nullable = true)\n",
      " |-- rssi: long (nullable = true)\n",
      " |-- battery: long (nullable = true)\n",
      " |-- battid: long (nullable = true)\n",
      " |-- battime: long (nullable = true)\n",
      " |-- __index_level_0__: long (nullable = true)\n",
      "\n"
     ]
    }
   ],
   "source": [
    "df.printSchema() #dataframes=tabla excel con fila de arriba nombres de cada columna y cada fila un registro con un\n",
    "#valor para cada columna\n",
    "#cada columna tiene un tipo asociado: nombre con su tipo forma un esquema\n",
    "#en parchet se guarda el esquema"
   ]
  },
  {
   "cell_type": "markdown",
   "metadata": {},
   "source": [
    "Sacar id del dispositivo con su temperatura y humedad"
   ]
  },
  {
   "cell_type": "code",
   "execution_count": 9,
   "metadata": {},
   "outputs": [
    {
     "name": "stdout",
     "output_type": "stream",
     "text": [
      "+----------------+-----------+--------+\n",
      "|        deviceID|temperature|humidity|\n",
      "+----------------+-----------+--------+\n",
      "|8B45C243B7C7B3E5|       4050|      25|\n",
      "|8B45C243B7C7B3E5|       2403|      45|\n",
      "|8B45C243B7C7B3E5|       2490|      43|\n",
      "|8B45C243B7C7B3E5|       3538|      27|\n",
      "|8B45C243B7C7B3E5|       2315|      48|\n",
      "|8B45C243B7C7B3E5|       4349|      20|\n",
      "|8B45C243B7C7B3E5|       3500|      27|\n",
      "|8B45C243B7C7B3E5|       3575|      27|\n",
      "|8B45C243B7C7B3E5|       2957|      35|\n",
      "|8B45C243B7C7B3E5|       3044|      35|\n",
      "|8B45C243B7C7B3E5|       2757|      38|\n",
      "|8B45C243B7C7B3E5|       3385|      29|\n",
      "|8B45C243B7C7B3E5|       3036|      33|\n",
      "|8B45C243B7C7B3E5|       3568|      27|\n",
      "|8B45C243B7C7B3E5|       3604|      26|\n",
      "|8B45C243B7C7B3E5|       2427|      44|\n",
      "|8B45C243B7C7B3E5|       2284|      48|\n",
      "|8B45C243B7C7B3E5|       2494|      40|\n",
      "|8B45C243B7C7B3E5|       2953|      34|\n",
      "|8B45C243B7C7B3E5|       2440|      42|\n",
      "+----------------+-----------+--------+\n",
      "only showing top 20 rows\n",
      "\n"
     ]
    },
    {
     "data": {
      "text/plain": [
       "177573"
      ]
     },
     "execution_count": 9,
     "metadata": {},
     "output_type": "execute_result"
    }
   ],
   "source": [
    "df.select(['deviceID','temperature','humidity']).show()\n",
    "df.select(['deviceID','temperature','humidity']).count()"
   ]
  },
  {
   "cell_type": "markdown",
   "metadata": {},
   "source": [
    "Resumen datos:"
   ]
  },
  {
   "cell_type": "code",
   "execution_count": 12,
   "metadata": {},
   "outputs": [
    {
     "name": "stdout",
     "output_type": "stream",
     "text": [
      "+-------+----------------+-----------------+-----------------+\n",
      "|summary|        deviceID|      temperature|         humidity|\n",
      "+-------+----------------+-----------------+-----------------+\n",
      "|  count|          177573|           177573|           177573|\n",
      "|   mean|            null|3152.144503950488|34.26563159939856|\n",
      "| stddev|            null| 547.001543888544|8.158827807674266|\n",
      "|    min|8B45C243B7C7B3E5|             2243|               19|\n",
      "|    max|8B45C243B7C7B3E5|             4496|               61|\n",
      "+-------+----------------+-----------------+-----------------+\n",
      "\n"
     ]
    }
   ],
   "source": [
    "#df.describe().show() #análisis rápido de algunos valores fundamentales\n",
    "df.select(['deviceID','temperature','humidity']).describe().show()"
   ]
  },
  {
   "cell_type": "code",
   "execution_count": 20,
   "metadata": {},
   "outputs": [
    {
     "data": {
      "text/plain": [
       "65"
      ]
     },
     "execution_count": 20,
     "metadata": {},
     "output_type": "execute_result"
    }
   ],
   "source": [
    "df.select(['macaddress','temperature']).groupBy('macaddress').max().count() #max convierte group by a dataframe\n",
    "#65 sensores generan miles de datos\n"
   ]
  },
  {
   "cell_type": "markdown",
   "metadata": {},
   "source": [
    "Buscar el máximo valor de cada sensor"
   ]
  },
  {
   "cell_type": "code",
   "execution_count": 21,
   "metadata": {},
   "outputs": [
    {
     "name": "stdout",
     "output_type": "stream",
     "text": [
      "+------------+----------------+\n",
      "|  macaddress|max(temperature)|\n",
      "+------------+----------------+\n",
      "|c951484e7557|            4030|\n",
      "|cc61f1ebf476|            2946|\n",
      "|e8ef608545bd|            4461|\n",
      "|d5e45039e20a|            2895|\n",
      "|d518d54a08ab|            4265|\n",
      "|fa063d968f37|            3488|\n",
      "|dd25c245985e|            4037|\n",
      "|dd5ab6058a08|            4496|\n",
      "|fa3ba8e127f5|            3343|\n",
      "|f5d0f7e4a20d|            4248|\n",
      "|c018119e2e62|            3873|\n",
      "|df531c3f8505|            3832|\n",
      "|f91c09c33cba|            3400|\n",
      "|f259178143b9|            4098|\n",
      "|dc39dd91e92e|            4181|\n",
      "|e8c4b001d373|            4373|\n",
      "|e5f74f627a48|            4066|\n",
      "|c46d329c4a59|            3748|\n",
      "|fe707b16ef38|            3081|\n",
      "|ca960bef2cab|            4160|\n",
      "+------------+----------------+\n",
      "only showing top 20 rows\n",
      "\n"
     ]
    }
   ],
   "source": [
    "df.select(['macaddress','temperature']).groupBy('macaddress').max().show()\n",
    "#4030=40,30º"
   ]
  },
  {
   "cell_type": "code",
   "execution_count": 22,
   "metadata": {},
   "outputs": [
    {
     "name": "stdout",
     "output_type": "stream",
     "text": [
      "+------------+----------------+\n",
      "|  macaddress|min(temperature)|\n",
      "+------------+----------------+\n",
      "|c951484e7557|            2284|\n",
      "|cc61f1ebf476|            2679|\n",
      "|e8ef608545bd|            2393|\n",
      "|d5e45039e20a|            2670|\n",
      "|d518d54a08ab|            2288|\n",
      "|fa063d968f37|            2306|\n",
      "|dd25c245985e|            2377|\n",
      "|dd5ab6058a08|            2928|\n",
      "|fa3ba8e127f5|            2284|\n",
      "|f5d0f7e4a20d|            2320|\n",
      "|c018119e2e62|            2503|\n",
      "|df531c3f8505|            2305|\n",
      "|f91c09c33cba|            2243|\n",
      "|f259178143b9|            2280|\n",
      "|dc39dd91e92e|            2284|\n",
      "|e8c4b001d373|            2333|\n",
      "|e5f74f627a48|            2352|\n",
      "|c46d329c4a59|            3015|\n",
      "|fe707b16ef38|            2290|\n",
      "|ca960bef2cab|            2285|\n",
      "+------------+----------------+\n",
      "only showing top 20 rows\n",
      "\n"
     ]
    }
   ],
   "source": [
    "df.select(['macaddress','temperature']).groupBy('macaddress').min().show()"
   ]
  },
  {
   "cell_type": "code",
   "execution_count": 23,
   "metadata": {},
   "outputs": [
    {
     "name": "stdout",
     "output_type": "stream",
     "text": [
      "+------------+----------------+-------------+\n",
      "|  macaddress|min(temperature)|min(humidity)|\n",
      "+------------+----------------+-------------+\n",
      "|c951484e7557|            2284|           22|\n",
      "|cc61f1ebf476|            2679|           36|\n",
      "|e8ef608545bd|            2393|           20|\n",
      "|d5e45039e20a|            2670|           37|\n",
      "|d518d54a08ab|            2288|           24|\n",
      "|fa063d968f37|            2306|           30|\n",
      "|dd25c245985e|            2377|           25|\n",
      "|dd5ab6058a08|            2928|           19|\n",
      "|fa3ba8e127f5|            2284|           29|\n",
      "|f5d0f7e4a20d|            2320|           21|\n",
      "|c018119e2e62|            2503|           24|\n",
      "|df531c3f8505|            2305|           27|\n",
      "|f91c09c33cba|            2243|           28|\n",
      "|f259178143b9|            2280|           23|\n",
      "|dc39dd91e92e|            2284|           24|\n",
      "|e8c4b001d373|            2333|           21|\n",
      "|e5f74f627a48|            2352|           25|\n",
      "|c46d329c4a59|            3015|           26|\n",
      "|fe707b16ef38|            2290|           33|\n",
      "|ca960bef2cab|            2285|           22|\n",
      "+------------+----------------+-------------+\n",
      "only showing top 20 rows\n",
      "\n"
     ]
    }
   ],
   "source": [
    "df.select(['macaddress','temperature','humidity']).groupBy('macaddress').min().show()"
   ]
  },
  {
   "cell_type": "markdown",
   "metadata": {},
   "source": [
    "máximo de temp y mínimo de humedad"
   ]
  },
  {
   "cell_type": "code",
   "execution_count": 26,
   "metadata": {},
   "outputs": [
    {
     "name": "stdout",
     "output_type": "stream",
     "text": [
      "+------------+----------------+-------------+\n",
      "|  macaddress|max(temperature)|min(humidity)|\n",
      "+------------+----------------+-------------+\n",
      "|c951484e7557|            4030|           22|\n",
      "|cc61f1ebf476|            2946|           36|\n",
      "|e8ef608545bd|            4461|           20|\n",
      "|d5e45039e20a|            2895|           37|\n",
      "|d518d54a08ab|            4265|           24|\n",
      "|fa063d968f37|            3488|           30|\n",
      "|dd25c245985e|            4037|           25|\n",
      "|dd5ab6058a08|            4496|           19|\n",
      "|fa3ba8e127f5|            3343|           29|\n",
      "|f5d0f7e4a20d|            4248|           21|\n",
      "|c018119e2e62|            3873|           24|\n",
      "|df531c3f8505|            3832|           27|\n",
      "|f91c09c33cba|            3400|           28|\n",
      "|f259178143b9|            4098|           23|\n",
      "|dc39dd91e92e|            4181|           24|\n",
      "|e8c4b001d373|            4373|           21|\n",
      "|e5f74f627a48|            4066|           25|\n",
      "|c46d329c4a59|            3748|           26|\n",
      "|fe707b16ef38|            3081|           33|\n",
      "|ca960bef2cab|            4160|           22|\n",
      "+------------+----------------+-------------+\n",
      "only showing top 20 rows\n",
      "\n"
     ]
    }
   ],
   "source": [
    "df.select(['macaddress','temperature','humidity']).groupBy('macaddress')\\\n",
    "    .agg({'temperature':'max', 'humidity':'min'}).show()"
   ]
  },
  {
   "cell_type": "markdown",
   "metadata": {},
   "source": [
    "Coger los sensores con las temperaturas más altas"
   ]
  },
  {
   "cell_type": "code",
   "execution_count": 31,
   "metadata": {},
   "outputs": [
    {
     "name": "stdout",
     "output_type": "stream",
     "text": [
      "+----------------+\n",
      "|max(temperature)|\n",
      "+----------------+\n",
      "|            4030|\n",
      "|            2946|\n",
      "|            4461|\n",
      "|            2895|\n",
      "|            4265|\n",
      "|            3488|\n",
      "|            4037|\n",
      "|            4496|\n",
      "|            3343|\n",
      "|            4248|\n",
      "|            3873|\n",
      "|            3832|\n",
      "|            3400|\n",
      "|            4098|\n",
      "|            4181|\n",
      "|            4373|\n",
      "|            4066|\n",
      "|            3748|\n",
      "|            3081|\n",
      "|            4160|\n",
      "+----------------+\n",
      "only showing top 20 rows\n",
      "\n"
     ]
    }
   ],
   "source": [
    "df.groupBy('macaddress').max().select('max(temperature)').alias('maxt').show()\n",
    "   "
   ]
  },
  {
   "cell_type": "raw",
   "metadata": {},
   "source": [
    "GroupBy agrupa los campos ofreciendo un solo registro de cada sensor"
   ]
  },
  {
   "cell_type": "code",
   "execution_count": 32,
   "metadata": {},
   "outputs": [
    {
     "name": "stdout",
     "output_type": "stream",
     "text": [
      "+------------+----------------+\n",
      "|  macaddress|max(temperature)|\n",
      "+------------+----------------+\n",
      "|d5e45039e20a|            2895|\n",
      "|cc61f1ebf476|            2946|\n",
      "|f13893f6f9d3|            2977|\n",
      "|ca93cd7147b9|            2980|\n",
      "|fe707b16ef38|            3081|\n",
      "|c586984cc562|            3110|\n",
      "|dd8b42b574c9|            3316|\n",
      "|ffaba11c7636|            3326|\n",
      "|fa3ba8e127f5|            3343|\n",
      "|e0dd5d2685d6|            3381|\n",
      "|c4cf3b7eaf38|            3383|\n",
      "|f91c09c33cba|            3400|\n",
      "|e4bd46c32086|            3419|\n",
      "|e682eb3da011|            3452|\n",
      "|c12ceb212ae0|            3462|\n",
      "|df02fbbbc328|            3482|\n",
      "|d20e92ecef8d|            3484|\n",
      "|fa063d968f37|            3488|\n",
      "|daa529e8ad85|            3491|\n",
      "|cee054e51972|            3506|\n",
      "+------------+----------------+\n",
      "only showing top 20 rows\n",
      "\n"
     ]
    }
   ],
   "source": [
    "#para obtener el mmayor hacer un orderby\n",
    "res=df.select(['macaddress','temperature']).groupBy('macaddress').max()\n",
    "res.orderBy(res['max(temperature)']).show() #columna de max temperature, df no tenía columna max temperature\n",
    "#va de menor a mayor\n",
    "\n"
   ]
  },
  {
   "cell_type": "code",
   "execution_count": 33,
   "metadata": {},
   "outputs": [
    {
     "name": "stdout",
     "output_type": "stream",
     "text": [
      "+------------+----------------+\n",
      "|  macaddress|max(temperature)|\n",
      "+------------+----------------+\n",
      "|dd5ab6058a08|            4496|\n",
      "|e8ef608545bd|            4461|\n",
      "|eb4ff49b6856|            4408|\n",
      "|e8c4b001d373|            4373|\n",
      "|d58914b878f1|            4354|\n",
      "|ce6a182a63ce|            4350|\n",
      "|c9a31a0afd92|            4308|\n",
      "|d518d54a08ab|            4265|\n",
      "|f5d0f7e4a20d|            4248|\n",
      "|e67b59437937|            4200|\n",
      "|dc39dd91e92e|            4181|\n",
      "|fcd6f32c9df6|            4178|\n",
      "|ca960bef2cab|            4160|\n",
      "|f9cb43549434|            4111|\n",
      "|f259178143b9|            4098|\n",
      "|dde8dfe906f1|            4083|\n",
      "|cc31d1ec2f35|            4077|\n",
      "|d1433512b484|            4071|\n",
      "|e5f74f627a48|            4066|\n",
      "|fc74ed579ebb|            4050|\n",
      "+------------+----------------+\n",
      "only showing top 20 rows\n",
      "\n"
     ]
    }
   ],
   "source": [
    "res.orderBy(res['max(temperature)'].desc()).show()"
   ]
  },
  {
   "cell_type": "code",
   "execution_count": 36,
   "metadata": {},
   "outputs": [
    {
     "data": {
      "text/plain": [
       "25"
      ]
     },
     "execution_count": 36,
     "metadata": {},
     "output_type": "execute_result"
    }
   ],
   "source": [
    "#cuantos equipos por encima de 27º/40º hay\n",
    "res.orderBy(res['max(temperature)'].desc()).filter(res['max(temperature)']>4000).count() #filter=where\n",
    "res.orderBy(res['max(temperature)'].desc()).where(res['max(temperature)']>4000).count()"
   ]
  },
  {
   "cell_type": "code",
   "execution_count": 37,
   "metadata": {},
   "outputs": [
    {
     "name": "stdout",
     "output_type": "stream",
     "text": [
      "+------------+----------------+\n",
      "|  macaddress|max(temperature)|\n",
      "+------------+----------------+\n",
      "|dd5ab6058a08|            4496|\n",
      "|e8ef608545bd|            4461|\n",
      "|eb4ff49b6856|            4408|\n",
      "|e8c4b001d373|            4373|\n",
      "|d58914b878f1|            4354|\n",
      "|ce6a182a63ce|            4350|\n",
      "|c9a31a0afd92|            4308|\n",
      "+------------+----------------+\n",
      "\n"
     ]
    }
   ],
   "source": [
    "res.orderBy(res['max(temperature)'].desc()).where(res['max(temperature)']>4300).show()"
   ]
  },
  {
   "cell_type": "code",
   "execution_count": 38,
   "metadata": {},
   "outputs": [
    {
     "name": "stdout",
     "output_type": "stream",
     "text": [
      "+------------+----------------+\n",
      "|  macaddress|max(temperature)|\n",
      "+------------+----------------+\n",
      "|c951484e7557|            4030|\n",
      "|cc61f1ebf476|            2946|\n",
      "|d5e45039e20a|            2895|\n",
      "|d518d54a08ab|            4265|\n",
      "|fa063d968f37|            3488|\n",
      "|dd25c245985e|            4037|\n",
      "|fa3ba8e127f5|            3343|\n",
      "|f5d0f7e4a20d|            4248|\n",
      "|c018119e2e62|            3873|\n",
      "|df531c3f8505|            3832|\n",
      "|f91c09c33cba|            3400|\n",
      "|f259178143b9|            4098|\n",
      "|dc39dd91e92e|            4181|\n",
      "|e5f74f627a48|            4066|\n",
      "|c46d329c4a59|            3748|\n",
      "|fe707b16ef38|            3081|\n",
      "|ca960bef2cab|            4160|\n",
      "|cee054e51972|            3506|\n",
      "|da054930b590|            3655|\n",
      "|e682eb3da011|            3452|\n",
      "+------------+----------------+\n",
      "only showing top 20 rows\n",
      "\n"
     ]
    }
   ],
   "source": [
    "#cuáles son los que no son mayores de..\n",
    "res.where(~(res['max(temperature)']>4300)).show()"
   ]
  },
  {
   "cell_type": "code",
   "execution_count": 41,
   "metadata": {},
   "outputs": [
    {
     "name": "stdout",
     "output_type": "stream",
     "text": [
      "+------------+----------------+\n",
      "|  macaddress|max(temperature)|\n",
      "+------------+----------------+\n",
      "|cc61f1ebf476|            2946|\n",
      "|d5e45039e20a|            2895|\n",
      "|fa063d968f37|            3488|\n",
      "|fa3ba8e127f5|            3343|\n",
      "|c018119e2e62|            3873|\n",
      "|df531c3f8505|            3832|\n",
      "|f91c09c33cba|            3400|\n",
      "|c46d329c4a59|            3748|\n",
      "|fe707b16ef38|            3081|\n",
      "|cee054e51972|            3506|\n",
      "|da054930b590|            3655|\n",
      "|e682eb3da011|            3452|\n",
      "|ee083dc954fc|            3642|\n",
      "|c641d75fbf4d|            3628|\n",
      "|faa4319d9523|            3877|\n",
      "|e7d9376a8bcb|            3697|\n",
      "|c4cf3b7eaf38|            3383|\n",
      "|e6021d994ae0|            3904|\n",
      "|f3526cfd8a6e|            3883|\n",
      "|daa529e8ad85|            3491|\n",
      "+------------+----------------+\n",
      "only showing top 20 rows\n",
      "\n"
     ]
    }
   ],
   "source": [
    "#combinar distintas propiedades\n",
    "res.where((res['max(temperature)'] >2700) & ~(res['max(temperature)']>4000)).show()"
   ]
  },
  {
   "cell_type": "code",
   "execution_count": 42,
   "metadata": {},
   "outputs": [
    {
     "name": "stdout",
     "output_type": "stream",
     "text": [
      "+------------+----+\n",
      "|  macaddress|maxT|\n",
      "+------------+----+\n",
      "|c951484e7557|4030|\n",
      "|cc61f1ebf476|2946|\n",
      "|e8ef608545bd|4461|\n",
      "|d5e45039e20a|2895|\n",
      "|d518d54a08ab|4265|\n",
      "|fa063d968f37|3488|\n",
      "|dd25c245985e|4037|\n",
      "|dd5ab6058a08|4496|\n",
      "|fa3ba8e127f5|3343|\n",
      "|f5d0f7e4a20d|4248|\n",
      "|c018119e2e62|3873|\n",
      "|df531c3f8505|3832|\n",
      "|f91c09c33cba|3400|\n",
      "|f259178143b9|4098|\n",
      "|dc39dd91e92e|4181|\n",
      "|e8c4b001d373|4373|\n",
      "|e5f74f627a48|4066|\n",
      "|c46d329c4a59|3748|\n",
      "|fe707b16ef38|3081|\n",
      "|ca960bef2cab|4160|\n",
      "+------------+----+\n",
      "only showing top 20 rows\n",
      "\n"
     ]
    }
   ],
   "source": [
    "df.select(['macaddress','temperature']).groupBy('macaddress').max().withColumnRenamed('max(temperature)','maxT').show()\n",
    "#cambiar nombre columna y poner dataframe con columna cambiada"
   ]
  },
  {
   "cell_type": "code",
   "execution_count": 43,
   "metadata": {},
   "outputs": [],
   "source": [
    "#crear tabla SQL que corresponde a ese dataframe\n",
    "df.createOrReplaceTempView('data')"
   ]
  },
  {
   "cell_type": "code",
   "execution_count": 47,
   "metadata": {},
   "outputs": [
    {
     "name": "stdout",
     "output_type": "stream",
     "text": [
      "+------------+-----------+--------+\n",
      "|  macaddress|temperature|humidity|\n",
      "+------------+-----------+--------+\n",
      "|e8ef608545bd|       4050|      25|\n",
      "|c951484e7557|       3538|      27|\n",
      "|eb4ff49b6856|       4349|      20|\n",
      "|d87a0caedc19|       3500|      27|\n",
      "|dc39dd91e92e|       3575|      27|\n",
      "|daa529e8ad85|       2957|      35|\n",
      "|d9f3ed813ee7|       3044|      35|\n",
      "|f3526cfd8a6e|       3385|      29|\n",
      "|e4baaebc5411|       3036|      33|\n",
      "|da054930b590|       3568|      27|\n",
      "|e9400a42da62|       3604|      26|\n",
      "|fe707b16ef38|       2953|      34|\n",
      "|fa063d968f37|       3087|      34|\n",
      "|c9a31a0afd92|       2943|      36|\n",
      "|f13893f6f9d3|       2949|      36|\n",
      "|d20e92ecef8d|       2919|      36|\n",
      "|ffaba11c7636|       2936|      36|\n",
      "|e67b59437937|       3535|      28|\n",
      "|c542b0d96392|       3524|      28|\n",
      "|d58914b878f1|       4103|      24|\n",
      "+------------+-----------+--------+\n",
      "only showing top 20 rows\n",
      "\n"
     ]
    }
   ],
   "source": [
    "#a esa tabla le podemos hacer queries\n",
    "spark.sql('SELECT macaddress,temperature,humidity FROM data WHERE temperature > 2900').show()"
   ]
  },
  {
   "cell_type": "markdown",
   "metadata": {},
   "source": [
    "Cuando faltan datos/valores"
   ]
  },
  {
   "cell_type": "code",
   "execution_count": 48,
   "metadata": {},
   "outputs": [
    {
     "name": "stdout",
     "output_type": "stream",
     "text": [
      "+----------------+\n",
      "|        deviceID|\n",
      "+----------------+\n",
      "|8B45C243B7C7B3E5|\n",
      "|8B45C243B7C7B3E5|\n",
      "|8B45C243B7C7B3E5|\n",
      "|8B45C243B7C7B3E5|\n",
      "|8B45C243B7C7B3E5|\n",
      "|8B45C243B7C7B3E5|\n",
      "|8B45C243B7C7B3E5|\n",
      "|8B45C243B7C7B3E5|\n",
      "|8B45C243B7C7B3E5|\n",
      "|8B45C243B7C7B3E5|\n",
      "|8B45C243B7C7B3E5|\n",
      "|8B45C243B7C7B3E5|\n",
      "|8B45C243B7C7B3E5|\n",
      "|8B45C243B7C7B3E5|\n",
      "|8B45C243B7C7B3E5|\n",
      "|8B45C243B7C7B3E5|\n",
      "|8B45C243B7C7B3E5|\n",
      "|8B45C243B7C7B3E5|\n",
      "|8B45C243B7C7B3E5|\n",
      "|8B45C243B7C7B3E5|\n",
      "+----------------+\n",
      "only showing top 20 rows\n",
      "\n"
     ]
    }
   ],
   "source": [
    "df.select('deviceID').show() #tiene NULLs"
   ]
  },
  {
   "cell_type": "code",
   "execution_count": 51,
   "metadata": {},
   "outputs": [
    {
     "name": "stdout",
     "output_type": "stream",
     "text": [
      "+-------+----------------+\n",
      "|summary|        deviceID|\n",
      "+-------+----------------+\n",
      "|  count|          177573|\n",
      "|   mean|            null|\n",
      "| stddev|            null|\n",
      "|    min|8B45C243B7C7B3E5|\n",
      "|    max|8B45C243B7C7B3E5|\n",
      "+-------+----------------+\n",
      "\n"
     ]
    }
   ],
   "source": [
    "df.select('deviceID').describe().show()"
   ]
  },
  {
   "cell_type": "code",
   "execution_count": 53,
   "metadata": {},
   "outputs": [
    {
     "data": {
      "text/plain": [
       "177573"
      ]
     },
     "execution_count": 53,
     "metadata": {},
     "output_type": "execute_result"
    }
   ],
   "source": [
    "df.na.drop().count()\n",
    "df.count() #no tiene nulls"
   ]
  },
  {
   "cell_type": "markdown",
   "metadata": {},
   "source": [
    "Si quitamos muestras con nulls a lo mejor nos quedamos con pocas muestras\n",
    "si tiene nulls en una primera fase los nulls estropean todo tipo de entrenamiento"
   ]
  },
  {
   "cell_type": "markdown",
   "metadata": {},
   "source": [
    "una cosa que se puede hacer es tirarlos =na.drop()"
   ]
  },
  {
   "cell_type": "code",
   "execution_count": null,
   "metadata": {
    "collapsed": true
   },
   "outputs": [],
   "source": [
    "df.na.drop(thresh=2) #los tira si hay al menos dos nulls"
   ]
  },
  {
   "cell_type": "markdown",
   "metadata": {},
   "source": [
    "o se pueden rellenar .na.fill(0) con un 0 o lo que sea"
   ]
  },
  {
   "cell_type": "markdown",
   "metadata": {},
   "source": [
    "en drop podemos poner subconjunto (subset) de columnas donde miramos los nulls.  \n",
    "how(all) se quitan todas las null. Mirar documentación.\n",
    "\n"
   ]
  },
  {
   "cell_type": "code",
   "execution_count": null,
   "metadata": {},
   "outputs": [],
   "source": []
  }
 ],
 "metadata": {
  "kernelspec": {
   "display_name": "Python 3",
   "language": "python",
   "name": "python3"
  },
  "language_info": {
   "codemirror_mode": {
    "name": "ipython",
    "version": 3
   },
   "file_extension": ".py",
   "mimetype": "text/x-python",
   "name": "python",
   "nbconvert_exporter": "python",
   "pygments_lexer": "ipython3",
   "version": "3.7.3"
  }
 },
 "nbformat": 4,
 "nbformat_minor": 2
}
