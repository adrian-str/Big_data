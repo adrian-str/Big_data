{
 "cells": [
  {
   "cell_type": "code",
   "execution_count": 1,
   "metadata": {},
   "outputs": [],
   "source": [
    "from pyspark.sql import SparkSession\n",
    "spark = SparkSession.builder.appName('LR').getOrCreate()"
   ]
  },
  {
   "cell_type": "code",
   "execution_count": 4,
   "metadata": {},
   "outputs": [],
   "source": [
    "df = spark.read.csv('Ecommerce_Customers.csv', header=True, inferSchema=True) #csv no tiene esquema, primera línea header"
   ]
  },
  {
   "cell_type": "code",
   "execution_count": 7,
   "metadata": {},
   "outputs": [
    {
     "name": "stdout",
     "output_type": "stream",
     "text": [
      "root\n",
      " |-- Email: string (nullable = true)\n",
      " |-- Address: string (nullable = true)\n",
      " |-- Avatar: string (nullable = true)\n",
      " |-- Avg Session Length: double (nullable = true)\n",
      " |-- Time on App: double (nullable = true)\n",
      " |-- Time on Website: double (nullable = true)\n",
      " |-- Length of Membership: double (nullable = true)\n",
      " |-- Yearly Amount Spent: double (nullable = true)\n",
      "\n"
     ]
    }
   ],
   "source": [
    "df.printSchema() #float y double(doble precisión, coma flotante que ocupa el doble que float, más preciso)"
   ]
  },
  {
   "cell_type": "code",
   "execution_count": 10,
   "metadata": {},
   "outputs": [
    {
     "data": {
      "text/html": [
       "<div>\n",
       "<style scoped>\n",
       "    .dataframe tbody tr th:only-of-type {\n",
       "        vertical-align: middle;\n",
       "    }\n",
       "\n",
       "    .dataframe tbody tr th {\n",
       "        vertical-align: top;\n",
       "    }\n",
       "\n",
       "    .dataframe thead th {\n",
       "        text-align: right;\n",
       "    }\n",
       "</style>\n",
       "<table border=\"1\" class=\"dataframe\">\n",
       "  <thead>\n",
       "    <tr style=\"text-align: right;\">\n",
       "      <th></th>\n",
       "      <th>summary</th>\n",
       "      <th>Email</th>\n",
       "      <th>Address</th>\n",
       "      <th>Avatar</th>\n",
       "      <th>Avg Session Length</th>\n",
       "      <th>Time on App</th>\n",
       "      <th>Time on Website</th>\n",
       "      <th>Length of Membership</th>\n",
       "      <th>Yearly Amount Spent</th>\n",
       "    </tr>\n",
       "  </thead>\n",
       "  <tbody>\n",
       "    <tr>\n",
       "      <th>0</th>\n",
       "      <td>count</td>\n",
       "      <td>500</td>\n",
       "      <td>500</td>\n",
       "      <td>500</td>\n",
       "      <td>500</td>\n",
       "      <td>500</td>\n",
       "      <td>500</td>\n",
       "      <td>500</td>\n",
       "      <td>500</td>\n",
       "    </tr>\n",
       "    <tr>\n",
       "      <th>1</th>\n",
       "      <td>mean</td>\n",
       "      <td>None</td>\n",
       "      <td>None</td>\n",
       "      <td>None</td>\n",
       "      <td>33.05319351819619</td>\n",
       "      <td>12.052487937166134</td>\n",
       "      <td>37.06044542094859</td>\n",
       "      <td>3.533461555915055</td>\n",
       "      <td>499.3140382585909</td>\n",
       "    </tr>\n",
       "    <tr>\n",
       "      <th>2</th>\n",
       "      <td>stddev</td>\n",
       "      <td>None</td>\n",
       "      <td>None</td>\n",
       "      <td>None</td>\n",
       "      <td>0.9925631110845354</td>\n",
       "      <td>0.9942156084725424</td>\n",
       "      <td>1.0104889067564033</td>\n",
       "      <td>0.9992775024112585</td>\n",
       "      <td>79.3147815497068</td>\n",
       "    </tr>\n",
       "    <tr>\n",
       "      <th>3</th>\n",
       "      <td>min</td>\n",
       "      <td>aaron04@yahoo.com</td>\n",
       "      <td>0001 Mack MillNorth Jennifer, NE 42021-5936</td>\n",
       "      <td>AliceBlue</td>\n",
       "      <td>29.532428967057943</td>\n",
       "      <td>8.508152176032603</td>\n",
       "      <td>33.91384724758464</td>\n",
       "      <td>0.2699010899842742</td>\n",
       "      <td>256.67058229005585</td>\n",
       "    </tr>\n",
       "    <tr>\n",
       "      <th>4</th>\n",
       "      <td>max</td>\n",
       "      <td>zscott@wright.com</td>\n",
       "      <td>Unit 7502 Box 8345DPO AE 53747</td>\n",
       "      <td>YellowGreen</td>\n",
       "      <td>36.13966248879052</td>\n",
       "      <td>15.126994288792467</td>\n",
       "      <td>40.005181638101895</td>\n",
       "      <td>6.922689335035808</td>\n",
       "      <td>765.5184619388373</td>\n",
       "    </tr>\n",
       "  </tbody>\n",
       "</table>\n",
       "</div>"
      ],
      "text/plain": [
       "  summary              Email                                      Address  \\\n",
       "0   count                500                                          500   \n",
       "1    mean               None                                         None   \n",
       "2  stddev               None                                         None   \n",
       "3     min  aaron04@yahoo.com  0001 Mack MillNorth Jennifer, NE 42021-5936   \n",
       "4     max  zscott@wright.com               Unit 7502 Box 8345DPO AE 53747   \n",
       "\n",
       "        Avatar  Avg Session Length         Time on App     Time on Website  \\\n",
       "0          500                 500                 500                 500   \n",
       "1         None   33.05319351819619  12.052487937166134   37.06044542094859   \n",
       "2         None  0.9925631110845354  0.9942156084725424  1.0104889067564033   \n",
       "3    AliceBlue  29.532428967057943   8.508152176032603   33.91384724758464   \n",
       "4  YellowGreen   36.13966248879052  15.126994288792467  40.005181638101895   \n",
       "\n",
       "  Length of Membership Yearly Amount Spent  \n",
       "0                  500                 500  \n",
       "1    3.533461555915055   499.3140382585909  \n",
       "2   0.9992775024112585    79.3147815497068  \n",
       "3   0.2699010899842742  256.67058229005585  \n",
       "4    6.922689335035808   765.5184619388373  "
      ]
     },
     "execution_count": 10,
     "metadata": {},
     "output_type": "execute_result"
    }
   ],
   "source": [
    "df.describe().toPandas() #df de terabytes no se puede pasar a pandas, describe sí porque es poca cosa"
   ]
  },
  {
   "cell_type": "markdown",
   "metadata": {},
   "source": [
    "Avatar y dirección , email no sirver para decir si va a gastar más o menos..  \n",
    "Obtener gasto anual (predecir)."
   ]
  },
  {
   "cell_type": "code",
   "execution_count": 11,
   "metadata": {},
   "outputs": [],
   "source": [
    "from pyspark.ml.feature import VectorAssembler "
   ]
  },
  {
   "cell_type": "markdown",
   "metadata": {},
   "source": [
    "Todos los algoritmos de ML en spark tienen una columna de entrada y una de salida (predicción)\n",
    "    Si queremos usar muchas características se tienen que poner en una columna con VAss."
   ]
  },
  {
   "cell_type": "code",
   "execution_count": 12,
   "metadata": {},
   "outputs": [],
   "source": [
    "assembler = VectorAssembler(inputCols=['Avg Session Length','Time on App', 'Time on Website',\n",
    "                                      'Length of Membership'], outputCol='features') \n",
    "#columna donde ponga ensamblado. VAss coge \n",
    "#varias columnas de entrada y devuelve una de salida que se va a usar para el algoritmo de regresión\n",
    "output = assembler.transform(df)"
   ]
  },
  {
   "cell_type": "code",
   "execution_count": 15,
   "metadata": {},
   "outputs": [
    {
     "data": {
      "text/plain": [
       "[Row(features=DenseVector([34.4973, 12.6557, 39.5777, 4.0826]))]"
      ]
     },
     "execution_count": 15,
     "metadata": {},
     "output_type": "execute_result"
    }
   ],
   "source": [
    "output.select('features').head(1) #1 vector con 4 floats"
   ]
  },
  {
   "cell_type": "code",
   "execution_count": 16,
   "metadata": {},
   "outputs": [],
   "source": [
    "final_data = output.select(['features', 'Yearly Amount Spent'])"
   ]
  },
  {
   "cell_type": "code",
   "execution_count": 17,
   "metadata": {},
   "outputs": [],
   "source": [
    "train_data, test_data = final_data.randomSplit([0.7,0.3]) #para la validación"
   ]
  },
  {
   "cell_type": "code",
   "execution_count": 18,
   "metadata": {},
   "outputs": [
    {
     "name": "stdout",
     "output_type": "stream",
     "text": [
      "+-------+-------------------+\n",
      "|summary|Yearly Amount Spent|\n",
      "+-------+-------------------+\n",
      "|  count|                354|\n",
      "|   mean| 499.11172129771825|\n",
      "| stddev|  82.25682312782251|\n",
      "|    min| 256.67058229005585|\n",
      "|    max|  765.5184619388373|\n",
      "+-------+-------------------+\n",
      "\n",
      "+-------+-------------------+\n",
      "|summary|Yearly Amount Spent|\n",
      "+-------+-------------------+\n",
      "|  count|                146|\n",
      "|   mean|  499.8045876020772|\n",
      "| stddev|  71.94890622966321|\n",
      "|    min|  319.9288698031936|\n",
      "|    max|  708.9351848669818|\n",
      "+-------+-------------------+\n",
      "\n",
      "+-------+-------------------+\n",
      "|summary|Yearly Amount Spent|\n",
      "+-------+-------------------+\n",
      "|  count|                500|\n",
      "|   mean|  499.3140382585909|\n",
      "| stddev|   79.3147815497068|\n",
      "|    min| 256.67058229005585|\n",
      "|    max|  765.5184619388373|\n",
      "+-------+-------------------+\n",
      "\n"
     ]
    }
   ],
   "source": [
    "train_data.describe().show()\n",
    "test_data.describe().show()\n",
    "final_data.describe().show()"
   ]
  },
  {
   "cell_type": "code",
   "execution_count": 20,
   "metadata": {},
   "outputs": [],
   "source": [
    "# modelo de regresión lineal\n",
    "from pyspark.ml.regression import LinearRegression"
   ]
  },
  {
   "cell_type": "code",
   "execution_count": 21,
   "metadata": {},
   "outputs": [],
   "source": [
    "lr = LinearRegression(labelCol='Yearly Amount Spent') #algoritmo para generar modelo configurado con etiq"
   ]
  },
  {
   "cell_type": "code",
   "execution_count": 22,
   "metadata": {},
   "outputs": [],
   "source": [
    "lr_model=lr.fit(train_data)"
   ]
  },
  {
   "cell_type": "code",
   "execution_count": 23,
   "metadata": {},
   "outputs": [],
   "source": [
    "#evaluar modelo\n",
    "test_results= lr_model.evaluate(test_data)"
   ]
  },
  {
   "cell_type": "code",
   "execution_count": 26,
   "metadata": {},
   "outputs": [
    {
     "name": "stdout",
     "output_type": "stream",
     "text": [
      "+-------------------+\n",
      "|          residuals|\n",
      "+-------------------+\n",
      "|-11.385311839158135|\n",
      "| -5.537323494646046|\n",
      "| 22.937872288864583|\n",
      "| 3.4248212158030356|\n",
      "| -8.327915253944525|\n",
      "|  3.459465289418006|\n",
      "|-13.755133930570764|\n",
      "|-1.6311747176306426|\n",
      "| 17.735403816355586|\n",
      "|-1.6046097389952934|\n",
      "|-16.883659605909145|\n",
      "|-1.6691148252779726|\n",
      "|    8.9683140558937|\n",
      "| -2.297744296775136|\n",
      "|  -9.16869543383308|\n",
      "| 11.932387802805692|\n",
      "|-1.4869914686441348|\n",
      "| 11.734145884356451|\n",
      "|-13.696005446861136|\n",
      "|  8.089016122781572|\n",
      "+-------------------+\n",
      "only showing top 20 rows\n",
      "\n"
     ]
    }
   ],
   "source": [
    "test_results.residuals.show() #errores/diferencia entre predicción y real"
   ]
  },
  {
   "cell_type": "code",
   "execution_count": 28,
   "metadata": {},
   "outputs": [
    {
     "data": {
      "text/plain": [
       "10.74694909738539"
      ]
     },
     "execution_count": 28,
     "metadata": {},
     "output_type": "execute_result"
    }
   ],
   "source": [
    "test_results.rootMeanSquaredError # para los valores de gasto está bien"
   ]
  },
  {
   "cell_type": "code",
   "execution_count": 29,
   "metadata": {},
   "outputs": [
    {
     "data": {
      "text/plain": [
       "0.9775349781700026"
      ]
     },
     "execution_count": 29,
     "metadata": {},
     "output_type": "execute_result"
    }
   ],
   "source": [
    "test_results.r2 #cantidad de varianza que explica el modelo, 98% muy bien"
   ]
  },
  {
   "cell_type": "code",
   "execution_count": null,
   "metadata": {},
   "outputs": [],
   "source": [
    "#como aplicar a la realidad\n",
    "#coger datos sin etiquetar"
   ]
  },
  {
   "cell_type": "code",
   "execution_count": 30,
   "metadata": {},
   "outputs": [],
   "source": [
    "unlabeled_data=test_data.select('features')"
   ]
  },
  {
   "cell_type": "code",
   "execution_count": 33,
   "metadata": {},
   "outputs": [
    {
     "name": "stdout",
     "output_type": "stream",
     "text": [
      "+--------------------+\n",
      "|            features|\n",
      "+--------------------+\n",
      "|[30.3931845423455...|\n",
      "|[31.0613251567161...|\n",
      "|[31.2834474760581...|\n",
      "|[31.3091926408918...|\n",
      "|[31.4474464941278...|\n",
      "|[31.5316044825729...|\n",
      "|[31.5741380228732...|\n",
      "|[31.5761319713222...|\n",
      "|[31.6098395733896...|\n",
      "|[31.7216523605090...|\n",
      "|[31.8164283341993...|\n",
      "|[31.8186165667690...|\n",
      "|[31.8512531286083...|\n",
      "|[31.8530748017465...|\n",
      "|[31.8854062999117...|\n",
      "|[31.9096268275227...|\n",
      "|[31.9120759292006...|\n",
      "|[31.9262720263601...|\n",
      "|[31.9365486184489...|\n",
      "|[31.9549038566348...|\n",
      "+--------------------+\n",
      "only showing top 20 rows\n",
      "\n"
     ]
    }
   ],
   "source": [
    "unlabeled_data.show()"
   ]
  },
  {
   "cell_type": "code",
   "execution_count": 34,
   "metadata": {},
   "outputs": [],
   "source": [
    "predictions=lr_model.transform(unlabeled_data) #similar a transform de assembler"
   ]
  },
  {
   "cell_type": "code",
   "execution_count": 35,
   "metadata": {},
   "outputs": [
    {
     "name": "stdout",
     "output_type": "stream",
     "text": [
      "+--------------------+------------------+\n",
      "|            features|        prediction|\n",
      "+--------------------+------------------+\n",
      "|[30.3931845423455...|331.31418164235174|\n",
      "|[31.0613251567161...|493.09278155254765|\n",
      "|[31.2834474760581...| 568.8432171368029|\n",
      "|[31.3091926408918...| 429.2958966241306|\n",
      "|[31.4474464941278...|426.93065734916854|\n",
      "|[31.5316044825729...|433.05614043994456|\n",
      "|[31.5741380228732...| 558.1644060911576|\n",
      "|[31.5761319713222...|  542.857758706959|\n",
      "|[31.6098395733896...| 426.8101458347526|\n",
      "|[31.7216523605090...|349.38153637086793|\n",
      "|[31.8164283341993...| 518.0061511095655|\n",
      "|[31.8186165667690...| 448.0877881954136|\n",
      "|[31.8512531286083...| 464.0239326109047|\n",
      "|[31.8530748017465...| 461.5828677591271|\n",
      "|[31.8854062999117...| 399.2719684063086|\n",
      "|[31.9096268275227...| 551.5136478704335|\n",
      "|[31.9120759292006...|389.02170777435185|\n",
      "|[31.9262720263601...|380.47078755996995|\n",
      "|[31.9365486184489...|440.89539034218933|\n",
      "|[31.9549038566348...| 431.9088638171454|\n",
      "+--------------------+------------------+\n",
      "only showing top 20 rows\n",
      "\n"
     ]
    }
   ],
   "source": [
    "predictions.show()"
   ]
  },
  {
   "cell_type": "code",
   "execution_count": null,
   "metadata": {},
   "outputs": [],
   "source": []
  }
 ],
 "metadata": {
  "kernelspec": {
   "display_name": "Python 3",
   "language": "python",
   "name": "python3"
  },
  "language_info": {
   "codemirror_mode": {
    "name": "ipython",
    "version": 3
   },
   "file_extension": ".py",
   "mimetype": "text/x-python",
   "name": "python",
   "nbconvert_exporter": "python",
   "pygments_lexer": "ipython3",
   "version": "3.7.3"
  }
 },
 "nbformat": 4,
 "nbformat_minor": 2
}
