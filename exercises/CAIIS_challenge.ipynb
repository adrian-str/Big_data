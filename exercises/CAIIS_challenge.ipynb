{
 "cells": [
  {
   "cell_type": "code",
   "execution_count": 96,
   "metadata": {},
   "outputs": [],
   "source": [
    "from pyspark.sql import SparkSession\n",
    "spark = SparkSession.builder.appName('CH').getOrCreate()"
   ]
  },
  {
   "cell_type": "code",
   "execution_count": 97,
   "metadata": {},
   "outputs": [],
   "source": [
    "train0=spark.read.csv('../data/CAIIS/train.csv',inferSchema=True,header=True)\n",
    "#test=spark.read.csv('../data/CAIIS/test.csv',inferSchema=True,header=True)"
   ]
  },
  {
   "cell_type": "code",
   "execution_count": 75,
   "metadata": {},
   "outputs": [
    {
     "name": "stdout",
     "output_type": "stream",
     "text": [
      "root\n",
      " |-- id: integer (nullable = true)\n",
      " |-- cat_0: string (nullable = true)\n",
      " |-- cat_1: string (nullable = true)\n",
      " |-- cat_2: string (nullable = true)\n",
      " |-- cat_3: string (nullable = true)\n",
      " |-- cat_4: string (nullable = true)\n",
      " |-- cat_5: string (nullable = true)\n",
      " |-- cat_6: string (nullable = true)\n",
      " |-- cat_7: string (nullable = true)\n",
      " |-- cat_8: string (nullable = true)\n",
      " |-- cat_9: string (nullable = true)\n",
      " |-- cat_10: string (nullable = true)\n",
      " |-- cat_11: string (nullable = true)\n",
      " |-- cat_12: string (nullable = true)\n",
      " |-- cat_13: string (nullable = true)\n",
      " |-- cat_14: string (nullable = true)\n",
      " |-- cat_15: string (nullable = true)\n",
      " |-- cat_16: string (nullable = true)\n",
      " |-- cat_17: string (nullable = true)\n",
      " |-- cat_18: string (nullable = true)\n",
      " |-- cont_0: double (nullable = true)\n",
      " |-- cont_1: double (nullable = true)\n",
      " |-- cont_2: double (nullable = true)\n",
      " |-- cont_3: double (nullable = true)\n",
      " |-- cont_4: double (nullable = true)\n",
      " |-- cont_5: double (nullable = true)\n",
      " |-- cont_6: double (nullable = true)\n",
      " |-- cont_7: double (nullable = true)\n",
      " |-- cont_8: double (nullable = true)\n",
      " |-- cont_9: double (nullable = true)\n",
      " |-- cont_10: double (nullable = true)\n",
      " |-- target: integer (nullable = true)\n",
      "\n"
     ]
    }
   ],
   "source": [
    "train0.printSchema()"
   ]
  },
  {
   "cell_type": "code",
   "execution_count": 76,
   "metadata": {},
   "outputs": [
    {
     "data": {
      "text/html": [
       "<div>\n",
       "<style scoped>\n",
       "    .dataframe tbody tr th:only-of-type {\n",
       "        vertical-align: middle;\n",
       "    }\n",
       "\n",
       "    .dataframe tbody tr th {\n",
       "        vertical-align: top;\n",
       "    }\n",
       "\n",
       "    .dataframe thead th {\n",
       "        text-align: right;\n",
       "    }\n",
       "</style>\n",
       "<table border=\"1\" class=\"dataframe\">\n",
       "  <thead>\n",
       "    <tr style=\"text-align: right;\">\n",
       "      <th></th>\n",
       "      <th>summary</th>\n",
       "      <th>id</th>\n",
       "      <th>cat_0</th>\n",
       "      <th>cat_1</th>\n",
       "      <th>cat_2</th>\n",
       "      <th>cat_3</th>\n",
       "      <th>cat_4</th>\n",
       "      <th>cat_5</th>\n",
       "      <th>cat_6</th>\n",
       "      <th>cat_7</th>\n",
       "      <th>...</th>\n",
       "      <th>cont_2</th>\n",
       "      <th>cont_3</th>\n",
       "      <th>cont_4</th>\n",
       "      <th>cont_5</th>\n",
       "      <th>cont_6</th>\n",
       "      <th>cont_7</th>\n",
       "      <th>cont_8</th>\n",
       "      <th>cont_9</th>\n",
       "      <th>cont_10</th>\n",
       "      <th>target</th>\n",
       "    </tr>\n",
       "  </thead>\n",
       "  <tbody>\n",
       "    <tr>\n",
       "      <th>0</th>\n",
       "      <td>count</td>\n",
       "      <td>300000</td>\n",
       "      <td>300000</td>\n",
       "      <td>300000</td>\n",
       "      <td>300000</td>\n",
       "      <td>300000</td>\n",
       "      <td>300000</td>\n",
       "      <td>300000</td>\n",
       "      <td>300000</td>\n",
       "      <td>300000</td>\n",
       "      <td>...</td>\n",
       "      <td>300000</td>\n",
       "      <td>300000</td>\n",
       "      <td>300000</td>\n",
       "      <td>300000</td>\n",
       "      <td>300000</td>\n",
       "      <td>300000</td>\n",
       "      <td>300000</td>\n",
       "      <td>300000</td>\n",
       "      <td>300000</td>\n",
       "      <td>300000</td>\n",
       "    </tr>\n",
       "    <tr>\n",
       "      <th>1</th>\n",
       "      <td>mean</td>\n",
       "      <td>250200.97216333332</td>\n",
       "      <td>None</td>\n",
       "      <td>None</td>\n",
       "      <td>None</td>\n",
       "      <td>None</td>\n",
       "      <td>None</td>\n",
       "      <td>None</td>\n",
       "      <td>None</td>\n",
       "      <td>None</td>\n",
       "      <td>...</td>\n",
       "      <td>0.5166645178398835</td>\n",
       "      <td>0.4744193874327339</td>\n",
       "      <td>0.5044709884799092</td>\n",
       "      <td>0.5018736037479843</td>\n",
       "      <td>0.4883378120871019</td>\n",
       "      <td>0.502006274009399</td>\n",
       "      <td>0.48801597355212994</td>\n",
       "      <td>0.46921116668812474</td>\n",
       "      <td>0.5082165541628958</td>\n",
       "      <td>0.18</td>\n",
       "    </tr>\n",
       "    <tr>\n",
       "      <th>2</th>\n",
       "      <td>stddev</td>\n",
       "      <td>144219.83335296522</td>\n",
       "      <td>None</td>\n",
       "      <td>None</td>\n",
       "      <td>None</td>\n",
       "      <td>None</td>\n",
       "      <td>None</td>\n",
       "      <td>None</td>\n",
       "      <td>None</td>\n",
       "      <td>None</td>\n",
       "      <td>...</td>\n",
       "      <td>0.21492886585944304</td>\n",
       "      <td>0.21661304733255013</td>\n",
       "      <td>0.22735448654385795</td>\n",
       "      <td>0.2412493938606232</td>\n",
       "      <td>0.21137428518896734</td>\n",
       "      <td>0.2035260446507908</td>\n",
       "      <td>0.17882409826401058</td>\n",
       "      <td>0.19450677126878163</td>\n",
       "      <td>0.20339280917898656</td>\n",
       "      <td>0.3841880945599908</td>\n",
       "    </tr>\n",
       "    <tr>\n",
       "      <th>3</th>\n",
       "      <td>min</td>\n",
       "      <td>0</td>\n",
       "      <td>A</td>\n",
       "      <td>A</td>\n",
       "      <td>A</td>\n",
       "      <td>A</td>\n",
       "      <td>A</td>\n",
       "      <td>A</td>\n",
       "      <td>A</td>\n",
       "      <td>A</td>\n",
       "      <td>...</td>\n",
       "      <td>0.0985912899753092</td>\n",
       "      <td>-0.045315544085700266</td>\n",
       "      <td>0.16807077712366736</td>\n",
       "      <td>-0.03637924631902362</td>\n",
       "      <td>-0.005647862556149214</td>\n",
       "      <td>0.09090146898913247</td>\n",
       "      <td>0.013553889109180706</td>\n",
       "      <td>0.21553998368297567</td>\n",
       "      <td>0.097788710197006</td>\n",
       "      <td>0</td>\n",
       "    </tr>\n",
       "    <tr>\n",
       "      <th>4</th>\n",
       "      <td>max</td>\n",
       "      <td>499999</td>\n",
       "      <td>B</td>\n",
       "      <td>O</td>\n",
       "      <td>U</td>\n",
       "      <td>N</td>\n",
       "      <td>T</td>\n",
       "      <td>ZZ</td>\n",
       "      <td>Y</td>\n",
       "      <td>Y</td>\n",
       "      <td>...</td>\n",
       "      <td>1.0166000095661805</td>\n",
       "      <td>0.9656087692808564</td>\n",
       "      <td>0.8602534683006209</td>\n",
       "      <td>0.8530217010483966</td>\n",
       "      <td>0.9665529928913124</td>\n",
       "      <td>1.0358178214967186</td>\n",
       "      <td>1.0542569211043546</td>\n",
       "      <td>1.0071889457830308</td>\n",
       "      <td>1.0080596545079707</td>\n",
       "      <td>1</td>\n",
       "    </tr>\n",
       "  </tbody>\n",
       "</table>\n",
       "<p>5 rows × 33 columns</p>\n",
       "</div>"
      ],
      "text/plain": [
       "  summary                  id   cat_0   cat_1   cat_2   cat_3   cat_4   cat_5  \\\n",
       "0   count              300000  300000  300000  300000  300000  300000  300000   \n",
       "1    mean  250200.97216333332    None    None    None    None    None    None   \n",
       "2  stddev  144219.83335296522    None    None    None    None    None    None   \n",
       "3     min                   0       A       A       A       A       A       A   \n",
       "4     max              499999       B       O       U       N       T      ZZ   \n",
       "\n",
       "    cat_6   cat_7  ...               cont_2                 cont_3  \\\n",
       "0  300000  300000  ...               300000                 300000   \n",
       "1    None    None  ...   0.5166645178398835     0.4744193874327339   \n",
       "2    None    None  ...  0.21492886585944304    0.21661304733255013   \n",
       "3       A       A  ...   0.0985912899753092  -0.045315544085700266   \n",
       "4       Y       Y  ...   1.0166000095661805     0.9656087692808564   \n",
       "\n",
       "                cont_4                cont_5                 cont_6  \\\n",
       "0               300000                300000                 300000   \n",
       "1   0.5044709884799092    0.5018736037479843     0.4883378120871019   \n",
       "2  0.22735448654385795    0.2412493938606232    0.21137428518896734   \n",
       "3  0.16807077712366736  -0.03637924631902362  -0.005647862556149214   \n",
       "4   0.8602534683006209    0.8530217010483966     0.9665529928913124   \n",
       "\n",
       "                cont_7                cont_8               cont_9  \\\n",
       "0               300000                300000               300000   \n",
       "1    0.502006274009399   0.48801597355212994  0.46921116668812474   \n",
       "2   0.2035260446507908   0.17882409826401058  0.19450677126878163   \n",
       "3  0.09090146898913247  0.013553889109180706  0.21553998368297567   \n",
       "4   1.0358178214967186    1.0542569211043546   1.0071889457830308   \n",
       "\n",
       "               cont_10              target  \n",
       "0               300000              300000  \n",
       "1   0.5082165541628958                0.18  \n",
       "2  0.20339280917898656  0.3841880945599908  \n",
       "3    0.097788710197006                   0  \n",
       "4   1.0080596545079707                   1  \n",
       "\n",
       "[5 rows x 33 columns]"
      ]
     },
     "execution_count": 76,
     "metadata": {},
     "output_type": "execute_result"
    }
   ],
   "source": [
    "train0.describe().toPandas()"
   ]
  },
  {
   "cell_type": "code",
   "execution_count": 10,
   "metadata": {},
   "outputs": [
    {
     "data": {
      "text/plain": [
       "[Row(id=0, cat_0='A', cat_1='I', cat_2='A', cat_3='B', cat_4='B', cat_5='BI', cat_6='A', cat_7='S', cat_8='Q', cat_9='A', cat_10='LO', cat_11='A', cat_12='A', cat_13='A', cat_14='A', cat_15='B', cat_16='D', cat_17='D', cat_18='B', cont_0=0.6298580932886344, cont_1=0.8553490496453626, cont_2=0.7594386994154677, cont_3=0.795549256871245, cont_4=0.6819172514031219, cont_5=0.6216718236057862, cont_6=0.5921843772206821, cont_7=0.7919207159113629, cont_8=0.8152537462248601, cont_9=0.965006328742958, cont_10=0.6659151198639575, target=1),\n",
       " Row(id=1, cat_0='A', cat_1='I', cat_2='A', cat_3='A', cat_4='E', cat_5='BI', cat_6='K', cat_7='W', cat_8='AD', cat_9='F', cat_10='HJ', cat_11='A', cat_12='B', cat_13='A', cat_14='B', cat_15='D', cat_16='B', cat_17='D', cat_18='B', cont_0=0.37072710368935663, cont_1=0.32892942328506936, cont_2=0.3863848396544993, cont_3=0.5413662314603979, cont_4=0.3889824529295912, cont_5=0.3577782607273347, cont_6=0.6000435979273233, cont_7=0.4087010629559668, cont_8=0.39935257249894734, cont_9=0.9274058250023683, cont_10=0.4937292188969079, target=0)]"
      ]
     },
     "execution_count": 10,
     "metadata": {},
     "output_type": "execute_result"
    }
   ],
   "source": [
    "train0.head(2)"
   ]
  },
  {
   "cell_type": "code",
   "execution_count": 15,
   "metadata": {},
   "outputs": [
    {
     "data": {
      "text/plain": [
       "['id',\n",
       " 'cat_0',\n",
       " 'cat_1',\n",
       " 'cat_2',\n",
       " 'cat_3',\n",
       " 'cat_4',\n",
       " 'cat_5',\n",
       " 'cat_6',\n",
       " 'cat_7',\n",
       " 'cat_8',\n",
       " 'cat_9',\n",
       " 'cat_10',\n",
       " 'cat_11',\n",
       " 'cat_12',\n",
       " 'cat_13',\n",
       " 'cat_14',\n",
       " 'cat_15',\n",
       " 'cat_16',\n",
       " 'cat_17',\n",
       " 'cat_18',\n",
       " 'cont_0',\n",
       " 'cont_1',\n",
       " 'cont_2',\n",
       " 'cont_3',\n",
       " 'cont_4',\n",
       " 'cont_5',\n",
       " 'cont_6',\n",
       " 'cont_7',\n",
       " 'cont_8',\n",
       " 'cont_9',\n",
       " 'cont_10',\n",
       " 'target']"
      ]
     },
     "execution_count": 15,
     "metadata": {},
     "output_type": "execute_result"
    }
   ],
   "source": [
    "train0.columns"
   ]
  },
  {
   "cell_type": "code",
   "execution_count": 98,
   "metadata": {},
   "outputs": [],
   "source": [
    "from pyspark.ml.feature import StringIndexer,VectorAssembler, OneHotEncoder\n",
    "data_ind=StringIndexer(inputCols=['cat_0','cat_1','cat_2','cat_3','cat_4','cat_5','cat_6','cat_7','cat_8','cat_9','cat_10',\n",
    " 'cat_11','cat_12','cat_13','cat_14','cat_15','cat_16','cat_17','cat_18'],outputCols=['cat_0_enc','cat_1_enc','cat_2_enc','cat_3_enc','cat_4_enc','cat_5_enc','cat_6_enc','cat_7_enc','cat_8_enc','cat_9_enc','cat_10_enc',\n",
    " 'cat_11_enc','cat_12_enc','cat_13_enc','cat_14_enc','cat_15_enc','cat_16_enc','cat_17_enc','cat_18_enc'])\n",
    "data_enc=OneHotEncoder(outputCols=['cat_0_','cat_1_','cat_2_','cat_3_','cat_4_','cat_5_','cat_6_','cat_7_','cat_8_','cat_9_','cat_10_',\n",
    " 'cat_11_','cat_12_','cat_13_','cat_14_','cat_15_','cat_16_','cat_17_','cat_18_'],inputCols=['cat_0_enc','cat_1_enc','cat_2_enc','cat_3_enc','cat_4_enc','cat_5_enc','cat_6_enc','cat_7_enc','cat_8_enc','cat_9_enc','cat_10_enc',\n",
    " 'cat_11_enc','cat_12_enc','cat_13_enc','cat_14_enc','cat_15_enc','cat_16_enc','cat_17_enc','cat_18_enc'])\n",
    "assembler=VectorAssembler(inputCols=['cat_0_','cat_1_','cat_2_','cat_3_','cat_4_','cat_5_','cat_6_','cat_7_','cat_8_','cat_9_','cat_10_',\n",
    " 'cat_11_','cat_12_','cat_13_','cat_14_','cat_15_','cat_16_','cat_17_','cat_18_','cont_1','cont_2','cont_3','cont_4','cont_5','cont_6','cont_7','cont_8','cont_9','cont_10'],outputCol='features')"
   ]
  },
  {
   "cell_type": "code",
   "execution_count": 99,
   "metadata": {},
   "outputs": [],
   "source": [
    "train_ind=data_ind.fit(train0).transform(train0)\n",
    "train_enc=data_enc.fit(train_ind).transform(train_ind)\n",
    "#test_ind=data_ind.fit(test).transform(test)\n",
    "#test_enc=data_enc.fit(test_ind).transform(test_ind)\n",
    "train_ft=assembler.transform(train_enc)\n",
    "#test_ft=assembler.transform(test_enc)"
   ]
  },
  {
   "cell_type": "code",
   "execution_count": 100,
   "metadata": {},
   "outputs": [],
   "source": [
    "data=train_ft.select(['features','target'])\n",
    "train,test=data.randomSplit(seed=0,weights=[0.7,0.3])"
   ]
  },
  {
   "cell_type": "code",
   "execution_count": 85,
   "metadata": {},
   "outputs": [
    {
     "data": {
      "text/plain": [
       "DenseVector([0.1067, 0.0567, 0.0488])"
      ]
     },
     "execution_count": 85,
     "metadata": {},
     "output_type": "execute_result"
    }
   ],
   "source": [
    "from pyspark.ml.feature import PCA\n",
    "pca = PCA(k=3,inputCol='features',outputCol='pca_features')\n",
    "pcaModel=pca.fit(train)\n",
    "pcaModel.explainedVariance"
   ]
  },
  {
   "cell_type": "code",
   "execution_count": 101,
   "metadata": {},
   "outputs": [],
   "source": [
    "from pyspark.ml.classification import GBTClassifier,RandomForestClassifier,DecisionTreeClassifier\n",
    "gbt=GBTClassifier(labelCol='target')\n",
    "rf=RandomForestClassifier(labelCol='target',numTrees=100)\n",
    "dt=DecisionTreeClassifier(labelCol='target')"
   ]
  },
  {
   "cell_type": "code",
   "execution_count": 102,
   "metadata": {},
   "outputs": [],
   "source": [
    "gbt_model=gbt.fit(train)\n",
    "rf_model=rf.fit(train)\n",
    "dt_model=dt.fit(train)"
   ]
  },
  {
   "cell_type": "code",
   "execution_count": 103,
   "metadata": {},
   "outputs": [
    {
     "name": "stdout",
     "output_type": "stream",
     "text": [
      "+------+----------+\n",
      "|target|prediction|\n",
      "+------+----------+\n",
      "|     0|       0.0|\n",
      "|     0|       0.0|\n",
      "|     0|       0.0|\n",
      "|     1|       0.0|\n",
      "|     0|       0.0|\n",
      "|     0|       0.0|\n",
      "|     0|       0.0|\n",
      "|     1|       0.0|\n",
      "|     1|       0.0|\n",
      "|     1|       0.0|\n",
      "|     1|       0.0|\n",
      "|     0|       0.0|\n",
      "|     0|       0.0|\n",
      "|     0|       0.0|\n",
      "|     0|       0.0|\n",
      "|     0|       0.0|\n",
      "|     0|       0.0|\n",
      "|     0|       0.0|\n",
      "|     0|       0.0|\n",
      "|     1|       0.0|\n",
      "+------+----------+\n",
      "only showing top 20 rows\n",
      "\n"
     ]
    }
   ],
   "source": [
    "predictionAndLabelsG = gbt_model.transform(test).select('target', 'prediction')\n",
    "predictionAndLabelsR = rf_model.transform(test).select('target', 'prediction')\n",
    "predictionAndLabelsD = dt_model.transform(test).select('target', 'prediction')\n",
    "predictionAndLabelsR.show()"
   ]
  },
  {
   "cell_type": "code",
   "execution_count": 104,
   "metadata": {},
   "outputs": [
    {
     "name": "stdout",
     "output_type": "stream",
     "text": [
      "Area under ROC for GBT is:  0.5831208352432199\n",
      "Accuracy for GBT is:  0.8331378883086998\n"
     ]
    }
   ],
   "source": [
    "from pyspark.ml.evaluation import BinaryClassificationEvaluator, MulticlassClassificationEvaluator\n",
    "evalBC = BinaryClassificationEvaluator(rawPredictionCol='prediction', labelCol='target',metricName=\"areaUnderROC\")\n",
    "evalMC=MulticlassClassificationEvaluator(predictionCol='prediction', labelCol='target', metricName='accuracy')\n",
    "print(\"Area under ROC for GBT is: \",evalBC.evaluate(predictionAndLabelsG))\n",
    "print(\"Accuracy for GBT is: \",evalMC.evaluate(predictionAndLabelsG))"
   ]
  },
  {
   "cell_type": "code",
   "execution_count": 105,
   "metadata": {},
   "outputs": [
    {
     "name": "stdout",
     "output_type": "stream",
     "text": [
      "Area under ROC for Random Forest is:  0.5\n",
      "Accuracy for Random Forest is:  0.8215550048676874\n"
     ]
    }
   ],
   "source": [
    "print(\"Area under ROC for Random Forest is: \",evalBC.evaluate(predictionAndLabelsR))\n",
    "print(\"Accuracy for Random Forest is: \",evalMC.evaluate(predictionAndLabelsR))"
   ]
  },
  {
   "cell_type": "code",
   "execution_count": 106,
   "metadata": {},
   "outputs": [
    {
     "name": "stdout",
     "output_type": "stream",
     "text": [
      "Area under ROC for Decision Trees is:  0.5737236694671768\n",
      "Accuracy for Decision Trees is:  0.8267877688290999\n"
     ]
    }
   ],
   "source": [
    "print(\"Area under ROC for Decision Trees is: \",evalBC.evaluate(predictionAndLabelsD))\n",
    "print(\"Accuracy for Decision Trees is: \",evalMC.evaluate(predictionAndLabelsD))"
   ]
  }
 ],
 "metadata": {
  "kernelspec": {
   "display_name": "Python 3",
   "language": "python",
   "name": "python3"
  },
  "language_info": {
   "codemirror_mode": {
    "name": "ipython",
    "version": 3
   },
   "file_extension": ".py",
   "mimetype": "text/x-python",
   "name": "python",
   "nbconvert_exporter": "python",
   "pygments_lexer": "ipython3",
   "version": "3.7.3"
  }
 },
 "nbformat": 4,
 "nbformat_minor": 2
}
