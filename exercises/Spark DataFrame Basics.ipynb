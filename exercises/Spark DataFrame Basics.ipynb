{
 "cells": [
  {
   "cell_type": "code",
   "execution_count": 1,
   "metadata": {},
   "outputs": [
    {
     "data": {
      "text/plain": [
       "4"
      ]
     },
     "execution_count": 1,
     "metadata": {},
     "output_type": "execute_result"
    }
   ],
   "source": [
    "1 +3 "
   ]
  },
  {
   "cell_type": "code",
   "execution_count": 2,
   "metadata": {},
   "outputs": [
    {
     "data": {
      "text/plain": [
       "0.5"
      ]
     },
     "execution_count": 2,
     "metadata": {},
     "output_type": "execute_result"
    }
   ],
   "source": [
    "1/2"
   ]
  },
  {
   "cell_type": "code",
   "execution_count": 3,
   "metadata": {},
   "outputs": [],
   "source": [
    "from pyspark.sql import SparkSession\n",
    "spark = SparkSession.builder.appName('Prueba').getOrCreate()"
   ]
  },
  {
   "cell_type": "code",
   "execution_count": 4,
   "metadata": {},
   "outputs": [
    {
     "data": {
      "text/html": [
       "\n",
       "            <div>\n",
       "                <p><b>SparkSession - hive</b></p>\n",
       "                \n",
       "        <div>\n",
       "            <p><b>SparkContext</b></p>\n",
       "\n",
       "            <p><a href=\"http://10.123.1.144:4040\">Spark UI</a></p>\n",
       "\n",
       "            <dl>\n",
       "              <dt>Version</dt>\n",
       "                <dd><code>v3.0.1</code></dd>\n",
       "              <dt>Master</dt>\n",
       "                <dd><code>local[*]</code></dd>\n",
       "              <dt>AppName</dt>\n",
       "                <dd><code>PySparkShell</code></dd>\n",
       "            </dl>\n",
       "        </div>\n",
       "        \n",
       "            </div>\n",
       "        "
      ],
      "text/plain": [
       "<pyspark.sql.session.SparkSession at 0x7fb490339b20>"
      ]
     },
     "execution_count": 4,
     "metadata": {},
     "output_type": "execute_result"
    }
   ],
   "source": [
    "spark"
   ]
  },
  {
   "cell_type": "code",
   "execution_count": 5,
   "metadata": {},
   "outputs": [],
   "source": [
    "df = spark.read.json('people.json')"
   ]
  },
  {
   "cell_type": "code",
   "execution_count": 6,
   "metadata": {},
   "outputs": [],
   "source": [
    "df = spark.read.parquet('example.parquet')"
   ]
  },
  {
   "cell_type": "code",
   "execution_count": 7,
   "metadata": {},
   "outputs": [
    {
     "name": "stdout",
     "output_type": "stream",
     "text": [
      "+------+----------------+--------------+----------+-------+------------+-------------------+------------+----------+-----------+--------+--------+----+-------+------+----------+-----------------+\n",
      "|timeID|        deviceID|      ClientID|      date|sensors|  macaddress|          timestamp|lostPackages|transferid|temperature|humidity|pressure|rssi|battery|battid|   battime|__index_level_0__|\n",
      "+------+----------------+--------------+----------+-------+------------+-------------------+------------+----------+-----------+--------+--------+----+-------+------+----------+-----------------+\n",
      "| 02:00|8B45C243B7C7B3E5|interxionpilot|13/10/2020|     65|e8ef608545bd|1.602547554622682E9|           0|       241|       4050|      25| 9530158| -86|   2974|    22|1602319364|                0|\n",
      "| 02:00|8B45C243B7C7B3E5|interxionpilot|13/10/2020|     65|cee054e51972|1.602547554622682E9|           0|        22|       2403|      45| 9522478| -79|   2805|    24|1602492324|                1|\n",
      "| 02:00|8B45C243B7C7B3E5|interxionpilot|13/10/2020|     65|cc282299f903|1.602547554622682E9|           0|        63|       2490|      43| 9500185| -88|   2854|    20|1602146661|                2|\n",
      "| 02:00|8B45C243B7C7B3E5|interxionpilot|13/10/2020|     65|c951484e7557|1.602547554622682E9|           0|        72|       3538|      27| 9512326| -88|   2875|    23|1602405817|                3|\n",
      "| 02:00|8B45C243B7C7B3E5|interxionpilot|13/10/2020|     65|e0dd5d2685d6|1.602547554622682E9|           0|       166|       2315|      48| 9488159| -92|   2789|    24|1602492285|                4|\n",
      "| 02:00|8B45C243B7C7B3E5|interxionpilot|13/10/2020|     65|eb4ff49b6856|1.602547554622682E9|           0|       134|       4349|      20| 9507795| -91|   3002|    24|1602492087|                5|\n",
      "| 02:00|8B45C243B7C7B3E5|interxionpilot|13/10/2020|     65|d87a0caedc19|1.602547554622682E9|           0|       148|       3500|      27| 9495300| -87|   2898|    24|1602492076|                6|\n",
      "| 02:00|8B45C243B7C7B3E5|interxionpilot|13/10/2020|     65|dc39dd91e92e|1.602547554622682E9|           0|        85|       3575|      27| 9503161| -84|   2922|    24|1602492112|                7|\n",
      "| 02:00|8B45C243B7C7B3E5|interxionpilot|13/10/2020|     65|daa529e8ad85|1.602547554622682E9|           0|       144|       2957|      35| 9490492| -71|   2901|    24|1602491871|                8|\n",
      "| 02:00|8B45C243B7C7B3E5|interxionpilot|13/10/2020|     65|d9f3ed813ee7|1.602547554622682E9|           0|         2|       3044|      35| 9493051| -67|   2894|    24|1602491940|                9|\n",
      "| 02:00|8B45C243B7C7B3E5|interxionpilot|13/10/2020|     65|df531c3f8505|1.602547554622682E9|           0|       107|       2757|      38| 9476594| -74|   2887|    24|1602491990|               10|\n",
      "| 02:00|8B45C243B7C7B3E5|interxionpilot|13/10/2020|     65|f3526cfd8a6e|1.602547554622682E9|           0|        34|       3385|      29| 9497660| -82|   2925|    24|1602492052|               11|\n",
      "| 02:00|8B45C243B7C7B3E5|interxionpilot|13/10/2020|     65|e4baaebc5411|1.602547554622682E9|           0|       215|       3036|      33| 9482565| -89|   2799|    24|1602492351|               12|\n",
      "| 02:00|8B45C243B7C7B3E5|interxionpilot|13/10/2020|     65|da054930b590|1.602547554622682E9|           0|       190|       3568|      27| 9485288| -76|   2921|    24|1602492036|               13|\n",
      "| 02:00|8B45C243B7C7B3E5|interxionpilot|13/10/2020|     65|e9400a42da62|1.602547554622682E9|           0|       170|       3604|      26| 9488103| -75|   2921|    24|1602492041|               14|\n",
      "| 02:00|8B45C243B7C7B3E5|interxionpilot|13/10/2020|     65|fa3ba8e127f5|1.602547554622682E9|           0|       221|       2427|      44| 9493832| -90|   2765|    24|1602492250|               15|\n",
      "| 02:00|8B45C243B7C7B3E5|interxionpilot|13/10/2020|     65|c3ed028fcacf|1.602547554622682E9|           0|       100|       2284|      48| 9475917| -83|   2790|    24|1602492289|               16|\n",
      "| 02:00|8B45C243B7C7B3E5|interxionpilot|13/10/2020|     65|c12ceb212ae0|1.602547554622682E9|           0|        94|       2494|      40| 9478991| -93|   2782|    24|1602492322|               17|\n",
      "| 02:00|8B45C243B7C7B3E5|interxionpilot|13/10/2020|     65|fe707b16ef38|1.602547554622682E9|           0|       138|       2953|      34| 9480578| -79|   2800|    24|1602492332|               18|\n",
      "| 02:00|8B45C243B7C7B3E5|interxionpilot|13/10/2020|     65|e5f74f627a48|1.602547554622682E9|           0|        26|       2440|      42| 9481943| -78|   2831|    24|1602492341|               19|\n",
      "+------+----------------+--------------+----------+-------+------------+-------------------+------------+----------+-----------+--------+--------+----+-------+------+----------+-----------------+\n",
      "only showing top 20 rows\n",
      "\n"
     ]
    }
   ],
   "source": [
    "df.show()"
   ]
  },
  {
   "cell_type": "code",
   "execution_count": 10,
   "metadata": {},
   "outputs": [
    {
     "data": {
      "text/html": [
       "<div>\n",
       "<style scoped>\n",
       "    .dataframe tbody tr th:only-of-type {\n",
       "        vertical-align: middle;\n",
       "    }\n",
       "\n",
       "    .dataframe tbody tr th {\n",
       "        vertical-align: top;\n",
       "    }\n",
       "\n",
       "    .dataframe thead th {\n",
       "        text-align: right;\n",
       "    }\n",
       "</style>\n",
       "<table border=\"1\" class=\"dataframe\">\n",
       "  <thead>\n",
       "    <tr style=\"text-align: right;\">\n",
       "      <th></th>\n",
       "      <th>timeID</th>\n",
       "      <th>deviceID</th>\n",
       "      <th>ClientID</th>\n",
       "      <th>date</th>\n",
       "      <th>sensors</th>\n",
       "      <th>macaddress</th>\n",
       "      <th>timestamp</th>\n",
       "      <th>lostPackages</th>\n",
       "      <th>transferid</th>\n",
       "      <th>temperature</th>\n",
       "      <th>humidity</th>\n",
       "      <th>pressure</th>\n",
       "      <th>rssi</th>\n",
       "      <th>battery</th>\n",
       "      <th>battid</th>\n",
       "      <th>battime</th>\n",
       "      <th>__index_level_0__</th>\n",
       "    </tr>\n",
       "  </thead>\n",
       "  <tbody>\n",
       "    <tr>\n",
       "      <th>0</th>\n",
       "      <td>02:00</td>\n",
       "      <td>8B45C243B7C7B3E5</td>\n",
       "      <td>interxionpilot</td>\n",
       "      <td>13/10/2020</td>\n",
       "      <td>65</td>\n",
       "      <td>e8ef608545bd</td>\n",
       "      <td>1.602548e+09</td>\n",
       "      <td>0</td>\n",
       "      <td>241</td>\n",
       "      <td>4050</td>\n",
       "      <td>25</td>\n",
       "      <td>9530158</td>\n",
       "      <td>-86</td>\n",
       "      <td>2974</td>\n",
       "      <td>22</td>\n",
       "      <td>1602319364</td>\n",
       "      <td>0</td>\n",
       "    </tr>\n",
       "    <tr>\n",
       "      <th>1</th>\n",
       "      <td>02:00</td>\n",
       "      <td>8B45C243B7C7B3E5</td>\n",
       "      <td>interxionpilot</td>\n",
       "      <td>13/10/2020</td>\n",
       "      <td>65</td>\n",
       "      <td>cee054e51972</td>\n",
       "      <td>1.602548e+09</td>\n",
       "      <td>0</td>\n",
       "      <td>22</td>\n",
       "      <td>2403</td>\n",
       "      <td>45</td>\n",
       "      <td>9522478</td>\n",
       "      <td>-79</td>\n",
       "      <td>2805</td>\n",
       "      <td>24</td>\n",
       "      <td>1602492324</td>\n",
       "      <td>1</td>\n",
       "    </tr>\n",
       "    <tr>\n",
       "      <th>2</th>\n",
       "      <td>02:00</td>\n",
       "      <td>8B45C243B7C7B3E5</td>\n",
       "      <td>interxionpilot</td>\n",
       "      <td>13/10/2020</td>\n",
       "      <td>65</td>\n",
       "      <td>cc282299f903</td>\n",
       "      <td>1.602548e+09</td>\n",
       "      <td>0</td>\n",
       "      <td>63</td>\n",
       "      <td>2490</td>\n",
       "      <td>43</td>\n",
       "      <td>9500185</td>\n",
       "      <td>-88</td>\n",
       "      <td>2854</td>\n",
       "      <td>20</td>\n",
       "      <td>1602146661</td>\n",
       "      <td>2</td>\n",
       "    </tr>\n",
       "    <tr>\n",
       "      <th>3</th>\n",
       "      <td>02:00</td>\n",
       "      <td>8B45C243B7C7B3E5</td>\n",
       "      <td>interxionpilot</td>\n",
       "      <td>13/10/2020</td>\n",
       "      <td>65</td>\n",
       "      <td>c951484e7557</td>\n",
       "      <td>1.602548e+09</td>\n",
       "      <td>0</td>\n",
       "      <td>72</td>\n",
       "      <td>3538</td>\n",
       "      <td>27</td>\n",
       "      <td>9512326</td>\n",
       "      <td>-88</td>\n",
       "      <td>2875</td>\n",
       "      <td>23</td>\n",
       "      <td>1602405817</td>\n",
       "      <td>3</td>\n",
       "    </tr>\n",
       "    <tr>\n",
       "      <th>4</th>\n",
       "      <td>02:00</td>\n",
       "      <td>8B45C243B7C7B3E5</td>\n",
       "      <td>interxionpilot</td>\n",
       "      <td>13/10/2020</td>\n",
       "      <td>65</td>\n",
       "      <td>e0dd5d2685d6</td>\n",
       "      <td>1.602548e+09</td>\n",
       "      <td>0</td>\n",
       "      <td>166</td>\n",
       "      <td>2315</td>\n",
       "      <td>48</td>\n",
       "      <td>9488159</td>\n",
       "      <td>-92</td>\n",
       "      <td>2789</td>\n",
       "      <td>24</td>\n",
       "      <td>1602492285</td>\n",
       "      <td>4</td>\n",
       "    </tr>\n",
       "    <tr>\n",
       "      <th>...</th>\n",
       "      <td>...</td>\n",
       "      <td>...</td>\n",
       "      <td>...</td>\n",
       "      <td>...</td>\n",
       "      <td>...</td>\n",
       "      <td>...</td>\n",
       "      <td>...</td>\n",
       "      <td>...</td>\n",
       "      <td>...</td>\n",
       "      <td>...</td>\n",
       "      <td>...</td>\n",
       "      <td>...</td>\n",
       "      <td>...</td>\n",
       "      <td>...</td>\n",
       "      <td>...</td>\n",
       "      <td>...</td>\n",
       "      <td>...</td>\n",
       "    </tr>\n",
       "    <tr>\n",
       "      <th>177568</th>\n",
       "      <td>01:50</td>\n",
       "      <td>8B45C243B7C7B3E5</td>\n",
       "      <td>interxionpilot</td>\n",
       "      <td>17/10/2020</td>\n",
       "      <td>65</td>\n",
       "      <td>e0dd5d2685d6</td>\n",
       "      <td>1.602893e+09</td>\n",
       "      <td>0</td>\n",
       "      <td>236</td>\n",
       "      <td>2315</td>\n",
       "      <td>46</td>\n",
       "      <td>9446471</td>\n",
       "      <td>-83</td>\n",
       "      <td>2802</td>\n",
       "      <td>28</td>\n",
       "      <td>1602837882</td>\n",
       "      <td>9346</td>\n",
       "    </tr>\n",
       "    <tr>\n",
       "      <th>177569</th>\n",
       "      <td>01:50</td>\n",
       "      <td>8B45C243B7C7B3E5</td>\n",
       "      <td>interxionpilot</td>\n",
       "      <td>17/10/2020</td>\n",
       "      <td>65</td>\n",
       "      <td>fcd6f32c9df6</td>\n",
       "      <td>1.602893e+09</td>\n",
       "      <td>0</td>\n",
       "      <td>243</td>\n",
       "      <td>2377</td>\n",
       "      <td>44</td>\n",
       "      <td>9446276</td>\n",
       "      <td>-80</td>\n",
       "      <td>2814</td>\n",
       "      <td>28</td>\n",
       "      <td>1602837893</td>\n",
       "      <td>9347</td>\n",
       "    </tr>\n",
       "    <tr>\n",
       "      <th>177570</th>\n",
       "      <td>01:50</td>\n",
       "      <td>8B45C243B7C7B3E5</td>\n",
       "      <td>interxionpilot</td>\n",
       "      <td>17/10/2020</td>\n",
       "      <td>65</td>\n",
       "      <td>dd8b42b574c9</td>\n",
       "      <td>1.602893e+09</td>\n",
       "      <td>0</td>\n",
       "      <td>135</td>\n",
       "      <td>2357</td>\n",
       "      <td>44</td>\n",
       "      <td>9451962</td>\n",
       "      <td>-82</td>\n",
       "      <td>2799</td>\n",
       "      <td>28</td>\n",
       "      <td>1602837910</td>\n",
       "      <td>9348</td>\n",
       "    </tr>\n",
       "    <tr>\n",
       "      <th>177571</th>\n",
       "      <td>01:50</td>\n",
       "      <td>8B45C243B7C7B3E5</td>\n",
       "      <td>interxionpilot</td>\n",
       "      <td>17/10/2020</td>\n",
       "      <td>65</td>\n",
       "      <td>fe707b16ef38</td>\n",
       "      <td>1.602893e+09</td>\n",
       "      <td>0</td>\n",
       "      <td>104</td>\n",
       "      <td>2720</td>\n",
       "      <td>36</td>\n",
       "      <td>9445974</td>\n",
       "      <td>-87</td>\n",
       "      <td>2798</td>\n",
       "      <td>28</td>\n",
       "      <td>1602837927</td>\n",
       "      <td>9349</td>\n",
       "    </tr>\n",
       "    <tr>\n",
       "      <th>177572</th>\n",
       "      <td>01:50</td>\n",
       "      <td>8B45C243B7C7B3E5</td>\n",
       "      <td>interxionpilot</td>\n",
       "      <td>17/10/2020</td>\n",
       "      <td>65</td>\n",
       "      <td>e4baaebc5411</td>\n",
       "      <td>1.602893e+09</td>\n",
       "      <td>0</td>\n",
       "      <td>198</td>\n",
       "      <td>2655</td>\n",
       "      <td>37</td>\n",
       "      <td>9443274</td>\n",
       "      <td>-92</td>\n",
       "      <td>2792</td>\n",
       "      <td>28</td>\n",
       "      <td>1602837948</td>\n",
       "      <td>9350</td>\n",
       "    </tr>\n",
       "  </tbody>\n",
       "</table>\n",
       "<p>177573 rows × 17 columns</p>\n",
       "</div>"
      ],
      "text/plain": [
       "       timeID          deviceID        ClientID        date  sensors  \\\n",
       "0       02:00  8B45C243B7C7B3E5  interxionpilot  13/10/2020       65   \n",
       "1       02:00  8B45C243B7C7B3E5  interxionpilot  13/10/2020       65   \n",
       "2       02:00  8B45C243B7C7B3E5  interxionpilot  13/10/2020       65   \n",
       "3       02:00  8B45C243B7C7B3E5  interxionpilot  13/10/2020       65   \n",
       "4       02:00  8B45C243B7C7B3E5  interxionpilot  13/10/2020       65   \n",
       "...       ...               ...             ...         ...      ...   \n",
       "177568  01:50  8B45C243B7C7B3E5  interxionpilot  17/10/2020       65   \n",
       "177569  01:50  8B45C243B7C7B3E5  interxionpilot  17/10/2020       65   \n",
       "177570  01:50  8B45C243B7C7B3E5  interxionpilot  17/10/2020       65   \n",
       "177571  01:50  8B45C243B7C7B3E5  interxionpilot  17/10/2020       65   \n",
       "177572  01:50  8B45C243B7C7B3E5  interxionpilot  17/10/2020       65   \n",
       "\n",
       "          macaddress     timestamp  lostPackages  transferid  temperature  \\\n",
       "0       e8ef608545bd  1.602548e+09             0         241         4050   \n",
       "1       cee054e51972  1.602548e+09             0          22         2403   \n",
       "2       cc282299f903  1.602548e+09             0          63         2490   \n",
       "3       c951484e7557  1.602548e+09             0          72         3538   \n",
       "4       e0dd5d2685d6  1.602548e+09             0         166         2315   \n",
       "...              ...           ...           ...         ...          ...   \n",
       "177568  e0dd5d2685d6  1.602893e+09             0         236         2315   \n",
       "177569  fcd6f32c9df6  1.602893e+09             0         243         2377   \n",
       "177570  dd8b42b574c9  1.602893e+09             0         135         2357   \n",
       "177571  fe707b16ef38  1.602893e+09             0         104         2720   \n",
       "177572  e4baaebc5411  1.602893e+09             0         198         2655   \n",
       "\n",
       "        humidity  pressure  rssi  battery  battid     battime  \\\n",
       "0             25   9530158   -86     2974      22  1602319364   \n",
       "1             45   9522478   -79     2805      24  1602492324   \n",
       "2             43   9500185   -88     2854      20  1602146661   \n",
       "3             27   9512326   -88     2875      23  1602405817   \n",
       "4             48   9488159   -92     2789      24  1602492285   \n",
       "...          ...       ...   ...      ...     ...         ...   \n",
       "177568        46   9446471   -83     2802      28  1602837882   \n",
       "177569        44   9446276   -80     2814      28  1602837893   \n",
       "177570        44   9451962   -82     2799      28  1602837910   \n",
       "177571        36   9445974   -87     2798      28  1602837927   \n",
       "177572        37   9443274   -92     2792      28  1602837948   \n",
       "\n",
       "        __index_level_0__  \n",
       "0                       0  \n",
       "1                       1  \n",
       "2                       2  \n",
       "3                       3  \n",
       "4                       4  \n",
       "...                   ...  \n",
       "177568               9346  \n",
       "177569               9347  \n",
       "177570               9348  \n",
       "177571               9349  \n",
       "177572               9350  \n",
       "\n",
       "[177573 rows x 17 columns]"
      ]
     },
     "execution_count": 10,
     "metadata": {},
     "output_type": "execute_result"
    }
   ],
   "source": [
    "df.toPandas()"
   ]
  },
  {
   "cell_type": "code",
   "execution_count": 11,
   "metadata": {},
   "outputs": [
    {
     "name": "stdout",
     "output_type": "stream",
     "text": [
      "root\n",
      " |-- timeID: string (nullable = true)\n",
      " |-- deviceID: string (nullable = true)\n",
      " |-- ClientID: string (nullable = true)\n",
      " |-- date: string (nullable = true)\n",
      " |-- sensors: long (nullable = true)\n",
      " |-- macaddress: string (nullable = true)\n",
      " |-- timestamp: double (nullable = true)\n",
      " |-- lostPackages: long (nullable = true)\n",
      " |-- transferid: long (nullable = true)\n",
      " |-- temperature: long (nullable = true)\n",
      " |-- humidity: long (nullable = true)\n",
      " |-- pressure: long (nullable = true)\n",
      " |-- rssi: long (nullable = true)\n",
      " |-- battery: long (nullable = true)\n",
      " |-- battid: long (nullable = true)\n",
      " |-- battime: long (nullable = true)\n",
      " |-- __index_level_0__: long (nullable = true)\n",
      "\n"
     ]
    }
   ],
   "source": [
    "df.printSchema()"
   ]
  },
  {
   "cell_type": "code",
   "execution_count": 12,
   "metadata": {},
   "outputs": [
    {
     "data": {
      "text/plain": [
       "['timeID',\n",
       " 'deviceID',\n",
       " 'ClientID',\n",
       " 'date',\n",
       " 'sensors',\n",
       " 'macaddress',\n",
       " 'timestamp',\n",
       " 'lostPackages',\n",
       " 'transferid',\n",
       " 'temperature',\n",
       " 'humidity',\n",
       " 'pressure',\n",
       " 'rssi',\n",
       " 'battery',\n",
       " 'battid',\n",
       " 'battime',\n",
       " '__index_level_0__']"
      ]
     },
     "execution_count": 12,
     "metadata": {},
     "output_type": "execute_result"
    }
   ],
   "source": [
    "df.columns\n"
   ]
  },
  {
   "cell_type": "code",
   "execution_count": 13,
   "metadata": {},
   "outputs": [
    {
     "name": "stdout",
     "output_type": "stream",
     "text": [
      "+-------+------+----------------+--------------+----------+-------+------------+--------------------+------------+------------------+-----------------+-----------------+------------------+------------------+------------------+------------------+--------------------+------------------+\n",
      "|summary|timeID|        deviceID|      ClientID|      date|sensors|  macaddress|           timestamp|lostPackages|        transferid|      temperature|         humidity|          pressure|              rssi|           battery|            battid|             battime| __index_level_0__|\n",
      "+-------+------+----------------+--------------+----------+-------+------------+--------------------+------------+------------------+-----------------+-----------------+------------------+------------------+------------------+------------------+--------------------+------------------+\n",
      "|  count|177573|          177573|        177573|    177573| 177573|      177573|              177573|      177573|            177573|           177573|           177573|            177573|            177573|            177573|            177573|              177573|            177573|\n",
      "|   mean|  null|            null|          null|      null|   65.0|        null|1.6022794758378217E9|         0.0|127.51873877222326|3152.144503950488|34.26563159939856|  9458798.47479065|-76.36549475427007|2889.7928795481293|20.700906106221105|1.6022265316902683E9| 4550.959104143085|\n",
      "| stddev|  null|            null|          null|      null|    0.0|        null|  474313.10370269284|         0.0| 74.04427259519234| 547.001543888544|8.158827807674266|63011.419401894615| 8.462012896676699| 156.9809084456106| 5.766023863962101|   473210.0580832097|2691.3606382812045|\n",
      "|    min| 00:00|8B45C243B7C7B3E5|interxionpilot|01/10/2020|     65|c018119e2e62|  1.60145675023263E9|           0|                 0|             2243|               19|           9225739|               -95|                 0|                 0|          1601448566|                 0|\n",
      "|    max| 23:50|8B45C243B7C7B3E5|interxionpilot|30/09/2020|     65|ffaba11c7636| 1.603099556884067E9|           0|               255|             4496|               61|           9565742|               -52|              3014|                31|          1603099203|              9420|\n",
      "+-------+------+----------------+--------------+----------+-------+------------+--------------------+------------+------------------+-----------------+-----------------+------------------+------------------+------------------+------------------+--------------------+------------------+\n",
      "\n"
     ]
    }
   ],
   "source": [
    "df.describe().show()"
   ]
  },
  {
   "cell_type": "code",
   "execution_count": 15,
   "metadata": {},
   "outputs": [
    {
     "name": "stdout",
     "output_type": "stream",
     "text": [
      "+------------+\n",
      "|  macaddress|\n",
      "+------------+\n",
      "|e8ef608545bd|\n",
      "|cee054e51972|\n",
      "|cc282299f903|\n",
      "|c951484e7557|\n",
      "|e0dd5d2685d6|\n",
      "|eb4ff49b6856|\n",
      "|d87a0caedc19|\n",
      "|dc39dd91e92e|\n",
      "|daa529e8ad85|\n",
      "|d9f3ed813ee7|\n",
      "|df531c3f8505|\n",
      "|f3526cfd8a6e|\n",
      "|e4baaebc5411|\n",
      "|da054930b590|\n",
      "|e9400a42da62|\n",
      "|fa3ba8e127f5|\n",
      "|c3ed028fcacf|\n",
      "|c12ceb212ae0|\n",
      "|fe707b16ef38|\n",
      "|e5f74f627a48|\n",
      "+------------+\n",
      "only showing top 20 rows\n",
      "\n"
     ]
    }
   ],
   "source": [
    "df.select(['macaddress']).show()"
   ]
  },
  {
   "cell_type": "code",
   "execution_count": 16,
   "metadata": {},
   "outputs": [
    {
     "data": {
      "text/plain": [
       "pyspark.sql.dataframe.DataFrame"
      ]
     },
     "execution_count": 16,
     "metadata": {},
     "output_type": "execute_result"
    }
   ],
   "source": [
    "type (df.select('macaddress'))"
   ]
  },
  {
   "cell_type": "code",
   "execution_count": 17,
   "metadata": {},
   "outputs": [
    {
     "data": {
      "text/plain": [
       "pyspark.sql.column.Column"
      ]
     },
     "execution_count": 17,
     "metadata": {},
     "output_type": "execute_result"
    }
   ],
   "source": [
    "type (df['macaddress'])"
   ]
  },
  {
   "cell_type": "code",
   "execution_count": 18,
   "metadata": {},
   "outputs": [
    {
     "data": {
      "text/plain": [
       "Row(timeID='02:00', deviceID='8B45C243B7C7B3E5', ClientID='interxionpilot', date='13/10/2020', sensors=65, macaddress='e8ef608545bd', timestamp=1602547554.622682, lostPackages=0, transferid=241, temperature=4050, humidity=25, pressure=9530158, rssi=-86, battery=2974, battid=22, battime=1602319364, __index_level_0__=0)"
      ]
     },
     "execution_count": 18,
     "metadata": {},
     "output_type": "execute_result"
    }
   ],
   "source": [
    "df.head(2)[0]"
   ]
  },
  {
   "cell_type": "code",
   "execution_count": 19,
   "metadata": {},
   "outputs": [
    {
     "name": "stdout",
     "output_type": "stream",
     "text": [
      "+------+----------------+--------------+----------+-------+------------+-------------------+------------+----------+-----------+--------+--------+----+-------+------+----------+-----------------+----+\n",
      "|timeID|        deviceID|      ClientID|      date|sensors|  macaddress|          timestamp|lostPackages|transferid|temperature|humidity|pressure|rssi|battery|battid|   battime|__index_level_0__|newT|\n",
      "+------+----------------+--------------+----------+-------+------------+-------------------+------------+----------+-----------+--------+--------+----+-------+------+----------+-----------------+----+\n",
      "| 02:00|8B45C243B7C7B3E5|interxionpilot|13/10/2020|     65|e8ef608545bd|1.602547554622682E9|           0|       241|       4050|      25| 9530158| -86|   2974|    22|1602319364|                0|8100|\n",
      "| 02:00|8B45C243B7C7B3E5|interxionpilot|13/10/2020|     65|cee054e51972|1.602547554622682E9|           0|        22|       2403|      45| 9522478| -79|   2805|    24|1602492324|                1|4806|\n",
      "| 02:00|8B45C243B7C7B3E5|interxionpilot|13/10/2020|     65|cc282299f903|1.602547554622682E9|           0|        63|       2490|      43| 9500185| -88|   2854|    20|1602146661|                2|4980|\n",
      "| 02:00|8B45C243B7C7B3E5|interxionpilot|13/10/2020|     65|c951484e7557|1.602547554622682E9|           0|        72|       3538|      27| 9512326| -88|   2875|    23|1602405817|                3|7076|\n",
      "| 02:00|8B45C243B7C7B3E5|interxionpilot|13/10/2020|     65|e0dd5d2685d6|1.602547554622682E9|           0|       166|       2315|      48| 9488159| -92|   2789|    24|1602492285|                4|4630|\n",
      "| 02:00|8B45C243B7C7B3E5|interxionpilot|13/10/2020|     65|eb4ff49b6856|1.602547554622682E9|           0|       134|       4349|      20| 9507795| -91|   3002|    24|1602492087|                5|8698|\n",
      "| 02:00|8B45C243B7C7B3E5|interxionpilot|13/10/2020|     65|d87a0caedc19|1.602547554622682E9|           0|       148|       3500|      27| 9495300| -87|   2898|    24|1602492076|                6|7000|\n",
      "| 02:00|8B45C243B7C7B3E5|interxionpilot|13/10/2020|     65|dc39dd91e92e|1.602547554622682E9|           0|        85|       3575|      27| 9503161| -84|   2922|    24|1602492112|                7|7150|\n",
      "| 02:00|8B45C243B7C7B3E5|interxionpilot|13/10/2020|     65|daa529e8ad85|1.602547554622682E9|           0|       144|       2957|      35| 9490492| -71|   2901|    24|1602491871|                8|5914|\n",
      "| 02:00|8B45C243B7C7B3E5|interxionpilot|13/10/2020|     65|d9f3ed813ee7|1.602547554622682E9|           0|         2|       3044|      35| 9493051| -67|   2894|    24|1602491940|                9|6088|\n",
      "| 02:00|8B45C243B7C7B3E5|interxionpilot|13/10/2020|     65|df531c3f8505|1.602547554622682E9|           0|       107|       2757|      38| 9476594| -74|   2887|    24|1602491990|               10|5514|\n",
      "| 02:00|8B45C243B7C7B3E5|interxionpilot|13/10/2020|     65|f3526cfd8a6e|1.602547554622682E9|           0|        34|       3385|      29| 9497660| -82|   2925|    24|1602492052|               11|6770|\n",
      "| 02:00|8B45C243B7C7B3E5|interxionpilot|13/10/2020|     65|e4baaebc5411|1.602547554622682E9|           0|       215|       3036|      33| 9482565| -89|   2799|    24|1602492351|               12|6072|\n",
      "| 02:00|8B45C243B7C7B3E5|interxionpilot|13/10/2020|     65|da054930b590|1.602547554622682E9|           0|       190|       3568|      27| 9485288| -76|   2921|    24|1602492036|               13|7136|\n",
      "| 02:00|8B45C243B7C7B3E5|interxionpilot|13/10/2020|     65|e9400a42da62|1.602547554622682E9|           0|       170|       3604|      26| 9488103| -75|   2921|    24|1602492041|               14|7208|\n",
      "| 02:00|8B45C243B7C7B3E5|interxionpilot|13/10/2020|     65|fa3ba8e127f5|1.602547554622682E9|           0|       221|       2427|      44| 9493832| -90|   2765|    24|1602492250|               15|4854|\n",
      "| 02:00|8B45C243B7C7B3E5|interxionpilot|13/10/2020|     65|c3ed028fcacf|1.602547554622682E9|           0|       100|       2284|      48| 9475917| -83|   2790|    24|1602492289|               16|4568|\n",
      "| 02:00|8B45C243B7C7B3E5|interxionpilot|13/10/2020|     65|c12ceb212ae0|1.602547554622682E9|           0|        94|       2494|      40| 9478991| -93|   2782|    24|1602492322|               17|4988|\n",
      "| 02:00|8B45C243B7C7B3E5|interxionpilot|13/10/2020|     65|fe707b16ef38|1.602547554622682E9|           0|       138|       2953|      34| 9480578| -79|   2800|    24|1602492332|               18|5906|\n",
      "| 02:00|8B45C243B7C7B3E5|interxionpilot|13/10/2020|     65|e5f74f627a48|1.602547554622682E9|           0|        26|       2440|      42| 9481943| -78|   2831|    24|1602492341|               19|4880|\n",
      "+------+----------------+--------------+----------+-------+------------+-------------------+------------+----------+-----------+--------+--------+----+-------+------+----------+-----------------+----+\n",
      "only showing top 20 rows\n",
      "\n"
     ]
    }
   ],
   "source": [
    "df.withColumn('newT', df['temperature'] * 2).show()"
   ]
  },
  {
   "cell_type": "code",
   "execution_count": 20,
   "metadata": {},
   "outputs": [
    {
     "name": "stdout",
     "output_type": "stream",
     "text": [
      "+------+----------------+--------------+----------+-------+------------+-------------------+------------+----------+----+--------+--------+----+-------+------+----------+-----------------+\n",
      "|timeID|        deviceID|      ClientID|      date|sensors|  macaddress|          timestamp|lostPackages|transferid|temp|humidity|pressure|rssi|battery|battid|   battime|__index_level_0__|\n",
      "+------+----------------+--------------+----------+-------+------------+-------------------+------------+----------+----+--------+--------+----+-------+------+----------+-----------------+\n",
      "| 02:00|8B45C243B7C7B3E5|interxionpilot|13/10/2020|     65|e8ef608545bd|1.602547554622682E9|           0|       241|4050|      25| 9530158| -86|   2974|    22|1602319364|                0|\n",
      "| 02:00|8B45C243B7C7B3E5|interxionpilot|13/10/2020|     65|cee054e51972|1.602547554622682E9|           0|        22|2403|      45| 9522478| -79|   2805|    24|1602492324|                1|\n",
      "| 02:00|8B45C243B7C7B3E5|interxionpilot|13/10/2020|     65|cc282299f903|1.602547554622682E9|           0|        63|2490|      43| 9500185| -88|   2854|    20|1602146661|                2|\n",
      "| 02:00|8B45C243B7C7B3E5|interxionpilot|13/10/2020|     65|c951484e7557|1.602547554622682E9|           0|        72|3538|      27| 9512326| -88|   2875|    23|1602405817|                3|\n",
      "| 02:00|8B45C243B7C7B3E5|interxionpilot|13/10/2020|     65|e0dd5d2685d6|1.602547554622682E9|           0|       166|2315|      48| 9488159| -92|   2789|    24|1602492285|                4|\n",
      "| 02:00|8B45C243B7C7B3E5|interxionpilot|13/10/2020|     65|eb4ff49b6856|1.602547554622682E9|           0|       134|4349|      20| 9507795| -91|   3002|    24|1602492087|                5|\n",
      "| 02:00|8B45C243B7C7B3E5|interxionpilot|13/10/2020|     65|d87a0caedc19|1.602547554622682E9|           0|       148|3500|      27| 9495300| -87|   2898|    24|1602492076|                6|\n",
      "| 02:00|8B45C243B7C7B3E5|interxionpilot|13/10/2020|     65|dc39dd91e92e|1.602547554622682E9|           0|        85|3575|      27| 9503161| -84|   2922|    24|1602492112|                7|\n",
      "| 02:00|8B45C243B7C7B3E5|interxionpilot|13/10/2020|     65|daa529e8ad85|1.602547554622682E9|           0|       144|2957|      35| 9490492| -71|   2901|    24|1602491871|                8|\n",
      "| 02:00|8B45C243B7C7B3E5|interxionpilot|13/10/2020|     65|d9f3ed813ee7|1.602547554622682E9|           0|         2|3044|      35| 9493051| -67|   2894|    24|1602491940|                9|\n",
      "| 02:00|8B45C243B7C7B3E5|interxionpilot|13/10/2020|     65|df531c3f8505|1.602547554622682E9|           0|       107|2757|      38| 9476594| -74|   2887|    24|1602491990|               10|\n",
      "| 02:00|8B45C243B7C7B3E5|interxionpilot|13/10/2020|     65|f3526cfd8a6e|1.602547554622682E9|           0|        34|3385|      29| 9497660| -82|   2925|    24|1602492052|               11|\n",
      "| 02:00|8B45C243B7C7B3E5|interxionpilot|13/10/2020|     65|e4baaebc5411|1.602547554622682E9|           0|       215|3036|      33| 9482565| -89|   2799|    24|1602492351|               12|\n",
      "| 02:00|8B45C243B7C7B3E5|interxionpilot|13/10/2020|     65|da054930b590|1.602547554622682E9|           0|       190|3568|      27| 9485288| -76|   2921|    24|1602492036|               13|\n",
      "| 02:00|8B45C243B7C7B3E5|interxionpilot|13/10/2020|     65|e9400a42da62|1.602547554622682E9|           0|       170|3604|      26| 9488103| -75|   2921|    24|1602492041|               14|\n",
      "| 02:00|8B45C243B7C7B3E5|interxionpilot|13/10/2020|     65|fa3ba8e127f5|1.602547554622682E9|           0|       221|2427|      44| 9493832| -90|   2765|    24|1602492250|               15|\n",
      "| 02:00|8B45C243B7C7B3E5|interxionpilot|13/10/2020|     65|c3ed028fcacf|1.602547554622682E9|           0|       100|2284|      48| 9475917| -83|   2790|    24|1602492289|               16|\n",
      "| 02:00|8B45C243B7C7B3E5|interxionpilot|13/10/2020|     65|c12ceb212ae0|1.602547554622682E9|           0|        94|2494|      40| 9478991| -93|   2782|    24|1602492322|               17|\n",
      "| 02:00|8B45C243B7C7B3E5|interxionpilot|13/10/2020|     65|fe707b16ef38|1.602547554622682E9|           0|       138|2953|      34| 9480578| -79|   2800|    24|1602492332|               18|\n",
      "| 02:00|8B45C243B7C7B3E5|interxionpilot|13/10/2020|     65|e5f74f627a48|1.602547554622682E9|           0|        26|2440|      42| 9481943| -78|   2831|    24|1602492341|               19|\n",
      "+------+----------------+--------------+----------+-------+------------+-------------------+------------+----------+----+--------+--------+----+-------+------+----------+-----------------+\n",
      "only showing top 20 rows\n",
      "\n"
     ]
    }
   ],
   "source": [
    "df.withColumnRenamed('temperature', 'temp').show()"
   ]
  },
  {
   "cell_type": "code",
   "execution_count": 21,
   "metadata": {},
   "outputs": [],
   "source": [
    "df.createOrReplaceTempView('sensordata')"
   ]
  },
  {
   "cell_type": "code",
   "execution_count": 22,
   "metadata": {},
   "outputs": [
    {
     "name": "stdout",
     "output_type": "stream",
     "text": [
      "+------+----------------+--------------+----------+-------+------------+-------------------+------------+----------+-----------+--------+--------+----+-------+------+----------+-----------------+\n",
      "|timeID|        deviceID|      ClientID|      date|sensors|  macaddress|          timestamp|lostPackages|transferid|temperature|humidity|pressure|rssi|battery|battid|   battime|__index_level_0__|\n",
      "+------+----------------+--------------+----------+-------+------------+-------------------+------------+----------+-----------+--------+--------+----+-------+------+----------+-----------------+\n",
      "| 02:00|8B45C243B7C7B3E5|interxionpilot|13/10/2020|     65|e8ef608545bd|1.602547554622682E9|           0|       241|       4050|      25| 9530158| -86|   2974|    22|1602319364|                0|\n",
      "| 02:00|8B45C243B7C7B3E5|interxionpilot|13/10/2020|     65|cee054e51972|1.602547554622682E9|           0|        22|       2403|      45| 9522478| -79|   2805|    24|1602492324|                1|\n",
      "| 02:00|8B45C243B7C7B3E5|interxionpilot|13/10/2020|     65|cc282299f903|1.602547554622682E9|           0|        63|       2490|      43| 9500185| -88|   2854|    20|1602146661|                2|\n",
      "| 02:00|8B45C243B7C7B3E5|interxionpilot|13/10/2020|     65|c951484e7557|1.602547554622682E9|           0|        72|       3538|      27| 9512326| -88|   2875|    23|1602405817|                3|\n",
      "| 02:00|8B45C243B7C7B3E5|interxionpilot|13/10/2020|     65|e0dd5d2685d6|1.602547554622682E9|           0|       166|       2315|      48| 9488159| -92|   2789|    24|1602492285|                4|\n",
      "| 02:00|8B45C243B7C7B3E5|interxionpilot|13/10/2020|     65|eb4ff49b6856|1.602547554622682E9|           0|       134|       4349|      20| 9507795| -91|   3002|    24|1602492087|                5|\n",
      "| 02:00|8B45C243B7C7B3E5|interxionpilot|13/10/2020|     65|d87a0caedc19|1.602547554622682E9|           0|       148|       3500|      27| 9495300| -87|   2898|    24|1602492076|                6|\n",
      "| 02:00|8B45C243B7C7B3E5|interxionpilot|13/10/2020|     65|dc39dd91e92e|1.602547554622682E9|           0|        85|       3575|      27| 9503161| -84|   2922|    24|1602492112|                7|\n",
      "| 02:00|8B45C243B7C7B3E5|interxionpilot|13/10/2020|     65|daa529e8ad85|1.602547554622682E9|           0|       144|       2957|      35| 9490492| -71|   2901|    24|1602491871|                8|\n",
      "| 02:00|8B45C243B7C7B3E5|interxionpilot|13/10/2020|     65|d9f3ed813ee7|1.602547554622682E9|           0|         2|       3044|      35| 9493051| -67|   2894|    24|1602491940|                9|\n",
      "| 02:00|8B45C243B7C7B3E5|interxionpilot|13/10/2020|     65|df531c3f8505|1.602547554622682E9|           0|       107|       2757|      38| 9476594| -74|   2887|    24|1602491990|               10|\n",
      "| 02:00|8B45C243B7C7B3E5|interxionpilot|13/10/2020|     65|f3526cfd8a6e|1.602547554622682E9|           0|        34|       3385|      29| 9497660| -82|   2925|    24|1602492052|               11|\n",
      "| 02:00|8B45C243B7C7B3E5|interxionpilot|13/10/2020|     65|e4baaebc5411|1.602547554622682E9|           0|       215|       3036|      33| 9482565| -89|   2799|    24|1602492351|               12|\n",
      "| 02:00|8B45C243B7C7B3E5|interxionpilot|13/10/2020|     65|da054930b590|1.602547554622682E9|           0|       190|       3568|      27| 9485288| -76|   2921|    24|1602492036|               13|\n",
      "| 02:00|8B45C243B7C7B3E5|interxionpilot|13/10/2020|     65|e9400a42da62|1.602547554622682E9|           0|       170|       3604|      26| 9488103| -75|   2921|    24|1602492041|               14|\n",
      "| 02:00|8B45C243B7C7B3E5|interxionpilot|13/10/2020|     65|fa3ba8e127f5|1.602547554622682E9|           0|       221|       2427|      44| 9493832| -90|   2765|    24|1602492250|               15|\n",
      "| 02:00|8B45C243B7C7B3E5|interxionpilot|13/10/2020|     65|c3ed028fcacf|1.602547554622682E9|           0|       100|       2284|      48| 9475917| -83|   2790|    24|1602492289|               16|\n",
      "| 02:00|8B45C243B7C7B3E5|interxionpilot|13/10/2020|     65|c12ceb212ae0|1.602547554622682E9|           0|        94|       2494|      40| 9478991| -93|   2782|    24|1602492322|               17|\n",
      "| 02:00|8B45C243B7C7B3E5|interxionpilot|13/10/2020|     65|fe707b16ef38|1.602547554622682E9|           0|       138|       2953|      34| 9480578| -79|   2800|    24|1602492332|               18|\n",
      "| 02:00|8B45C243B7C7B3E5|interxionpilot|13/10/2020|     65|e5f74f627a48|1.602547554622682E9|           0|        26|       2440|      42| 9481943| -78|   2831|    24|1602492341|               19|\n",
      "+------+----------------+--------------+----------+-------+------------+-------------------+------------+----------+-----------+--------+--------+----+-------+------+----------+-----------------+\n",
      "only showing top 20 rows\n",
      "\n"
     ]
    }
   ],
   "source": [
    "spark.sql('SELECT * FROM sensordata WHERE temperature > 28').show()"
   ]
  },
  {
   "cell_type": "code",
   "execution_count": 23,
   "metadata": {},
   "outputs": [
    {
     "name": "stdout",
     "output_type": "stream",
     "text": [
      "+------+----------------+--------------+----------+-------+------------+-------------------+------------+----------+-----------+--------+--------+----+-------+------+----------+-----------------+\n",
      "|timeID|        deviceID|      ClientID|      date|sensors|  macaddress|          timestamp|lostPackages|transferid|temperature|humidity|pressure|rssi|battery|battid|   battime|__index_level_0__|\n",
      "+------+----------------+--------------+----------+-------+------------+-------------------+------------+----------+-----------+--------+--------+----+-------+------+----------+-----------------+\n",
      "| 02:00|8B45C243B7C7B3E5|interxionpilot|13/10/2020|     65|cee054e51972|1.602547554622682E9|           0|        22|       2403|      45| 9522478| -79|   2805|    24|1602492324|                1|\n",
      "| 02:00|8B45C243B7C7B3E5|interxionpilot|13/10/2020|     65|cc282299f903|1.602547554622682E9|           0|        63|       2490|      43| 9500185| -88|   2854|    20|1602146661|                2|\n",
      "| 02:00|8B45C243B7C7B3E5|interxionpilot|13/10/2020|     65|e0dd5d2685d6|1.602547554622682E9|           0|       166|       2315|      48| 9488159| -92|   2789|    24|1602492285|                4|\n",
      "| 02:00|8B45C243B7C7B3E5|interxionpilot|13/10/2020|     65|fa3ba8e127f5|1.602547554622682E9|           0|       221|       2427|      44| 9493832| -90|   2765|    24|1602492250|               15|\n",
      "| 02:00|8B45C243B7C7B3E5|interxionpilot|13/10/2020|     65|c3ed028fcacf|1.602547554622682E9|           0|       100|       2284|      48| 9475917| -83|   2790|    24|1602492289|               16|\n",
      "| 02:00|8B45C243B7C7B3E5|interxionpilot|13/10/2020|     65|e5f74f627a48|1.602547554622682E9|           0|        26|       2440|      42| 9481943| -78|   2831|    24|1602492341|               19|\n",
      "| 02:00|8B45C243B7C7B3E5|interxionpilot|13/10/2020|     65|c586984cc562|1.602547554622682E9|           0|       123|       2659|      42| 9474108| -68|   2880|    24|1602491920|               28|\n",
      "| 02:00|8B45C243B7C7B3E5|interxionpilot|13/10/2020|     65|f91c09c33cba|1.602547554622682E9|           0|       151|       2354|      44| 9485358| -82|   2809|    24|1602492223|               58|\n",
      "| 02:00|8B45C243B7C7B3E5|interxionpilot|13/10/2020|     65|ce6a182a63ce|1.602547554622682E9|           0|       145|       2448|      43| 9477063| -80|   2820|    23|1602405838|               59|\n",
      "| 02:00|8B45C243B7C7B3E5|interxionpilot|13/10/2020|     65|c641d75fbf4d|1.602547554622682E9|           0|       104|       2390|      44| 9487890| -87|   2805|    24|1602492247|               60|\n",
      "| 02:00|8B45C243B7C7B3E5|interxionpilot|13/10/2020|     65|ca93cd7147b9|1.602547554622682E9|           0|       107|       2292|      46| 9469365| -81|   2826|    23|1602405887|               61|\n",
      "| 02:00|8B45C243B7C7B3E5|interxionpilot|13/10/2020|     65|fcd6f32c9df6|1.602547554622682E9|           0|        12|       2334|      46| 9476271| -82|   2809|    24|1602492299|               62|\n",
      "| 02:00|8B45C243B7C7B3E5|interxionpilot|13/10/2020|     65|dd8b42b574c9|1.602547554622682E9|           0|       203|       2476|      43| 9483393| -79|   2809|    24|1602492319|               63|\n",
      "| 02:10|8B45C243B7C7B3E5|interxionpilot|13/10/2020|     65|cc282299f903|1.602548154627208E9|           0|        63|       2490|      43| 9500185| -88|   2854|    20|1602146661|               66|\n",
      "| 02:10|8B45C243B7C7B3E5|interxionpilot|13/10/2020|     65|e0dd5d2685d6|1.602548154627208E9|           0|       166|       2315|      48| 9488159| -92|   2789|    24|1602492285|               68|\n",
      "| 02:10|8B45C243B7C7B3E5|interxionpilot|13/10/2020|     65|c3ed028fcacf|1.602548154627208E9|           0|       100|       2284|      48| 9475917| -83|   2790|    24|1602492289|               73|\n",
      "| 02:10|8B45C243B7C7B3E5|interxionpilot|13/10/2020|     65|c586984cc562|1.602548154627208E9|           0|       123|       2659|      42| 9474108| -68|   2880|    24|1602491920|               82|\n",
      "| 02:10|8B45C243B7C7B3E5|interxionpilot|13/10/2020|     65|ce6a182a63ce|1.602548154627208E9|           0|       145|       2448|      43| 9477063| -80|   2820|    23|1602405838|               93|\n",
      "| 02:10|8B45C243B7C7B3E5|interxionpilot|13/10/2020|     65|c641d75fbf4d|1.602548154627208E9|           0|       104|       2390|      44| 9487890| -87|   2805|    24|1602492247|               94|\n",
      "| 02:10|8B45C243B7C7B3E5|interxionpilot|13/10/2020|     65|f91c09c33cba|1.602548154627208E9|           0|       152|       2323|      44| 9484228| -82|   2809|    24|1602492223|              120|\n",
      "+------+----------------+--------------+----------+-------+------------+-------------------+------------+----------+-----------+--------+--------+----+-------+------+----------+-----------------+\n",
      "only showing top 20 rows\n",
      "\n"
     ]
    }
   ],
   "source": [
    "df.filter( (df['temperature'] > 30) & (df['humidity'] > 40) ).show()"
   ]
  },
  {
   "cell_type": "code",
   "execution_count": null,
   "metadata": {},
   "outputs": [],
   "source": []
  }
 ],
 "metadata": {
  "kernelspec": {
   "display_name": "Python 3",
   "language": "python",
   "name": "python3"
  },
  "language_info": {
   "codemirror_mode": {
    "name": "ipython",
    "version": 3
   },
   "file_extension": ".py",
   "mimetype": "text/x-python",
   "name": "python",
   "nbconvert_exporter": "python",
   "pygments_lexer": "ipython3",
   "version": "3.7.3"
  }
 },
 "nbformat": 4,
 "nbformat_minor": 4
}
